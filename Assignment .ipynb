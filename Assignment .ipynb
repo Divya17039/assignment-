{
 "cells": [
  {
   "cell_type": "markdown",
   "id": "5f131fb0",
   "metadata": {},
   "source": [
    "# Question 1"
   ]
  },
  {
   "cell_type": "code",
   "execution_count": 2,
   "id": "fbd670c7",
   "metadata": {},
   "outputs": [
    {
     "name": "stdout",
     "output_type": "stream",
     "text": [
      "15\n"
     ]
    }
   ],
   "source": [
    "def func(a,b):\n",
    "    return b if a==0 else func(b%a,a)\n",
    "print(func(30,75))"
   ]
  },
  {
   "cell_type": "markdown",
   "id": "8f91ea77",
   "metadata": {},
   "source": [
    "# Question 2"
   ]
  },
  {
   "cell_type": "code",
   "execution_count": 5,
   "id": "89c4ddce",
   "metadata": {},
   "outputs": [
    {
     "name": "stdout",
     "output_type": "stream",
     "text": [
      "<class 'filter'>\n"
     ]
    }
   ],
   "source": [
    "num=(4,7,19,2,89,45,72,22)\n",
    "sorted_numbers=sorted(num)\n",
    "even=lambda a:a%2==0\n",
    "even_number=filter(even,sorted_numbers)\n",
    "print(type(even_number))"
   ]
  },
  {
   "cell_type": "markdown",
   "id": "d4826b67",
   "metadata": {},
   "source": [
    "# Question 4"
   ]
  },
  {
   "cell_type": "code",
   "execution_count": 8,
   "id": "b92403a5",
   "metadata": {},
   "outputs": [
    {
     "ename": "TypeError",
     "evalue": "unsupported operand type(s) for +: 'set' and 'set'",
     "output_type": "error",
     "traceback": [
      "\u001b[1;31m---------------------------------------------------------------------------\u001b[0m",
      "\u001b[1;31mTypeError\u001b[0m                                 Traceback (most recent call last)",
      "Cell \u001b[1;32mIn[8], line 4\u001b[0m\n\u001b[0;32m      2\u001b[0m set2 \u001b[38;5;241m=\u001b[39m {\u001b[38;5;241m82\u001b[39m, \u001b[38;5;241m49\u001b[39m, \u001b[38;5;241m62\u001b[39m}\n\u001b[0;32m      3\u001b[0m set3\u001b[38;5;241m=\u001b[39m{\u001b[38;5;241m99\u001b[39m,\u001b[38;5;241m22\u001b[39m,\u001b[38;5;241m17\u001b[39m}\n\u001b[1;32m----> 4\u001b[0m \u001b[38;5;28mprint\u001b[39m(\u001b[38;5;28mlen\u001b[39m(\u001b[43mset1\u001b[49m\u001b[43m \u001b[49m\u001b[38;5;241;43m+\u001b[39;49m\u001b[43m \u001b[49m\u001b[43mset2\u001b[49m \u001b[38;5;241m+\u001b[39m set3))\n",
      "\u001b[1;31mTypeError\u001b[0m: unsupported operand type(s) for +: 'set' and 'set'"
     ]
    }
   ],
   "source": [
    "set1 = {14, 3, 55}\n",
    "set2 = {82, 49, 62}\n",
    "set3={99,22,17}\n",
    "print(len(set1 + set2 + set3))"
   ]
  },
  {
   "cell_type": "markdown",
   "id": "a2c52ff1",
   "metadata": {},
   "source": [
    "# Question 7"
   ]
  },
  {
   "cell_type": "code",
   "execution_count": 9,
   "id": "8814d119",
   "metadata": {},
   "outputs": [
    {
     "name": "stdout",
     "output_type": "stream",
     "text": [
      "208\n"
     ]
    }
   ],
   "source": [
    "print(4**3 + (7 + 5)**(1 + 1))"
   ]
  },
  {
   "cell_type": "markdown",
   "id": "b3f6fc60",
   "metadata": {},
   "source": [
    "# Question 17"
   ]
  },
  {
   "cell_type": "code",
   "execution_count": 20,
   "id": "3d9eb8bd",
   "metadata": {},
   "outputs": [],
   "source": [
    "captain={ }"
   ]
  },
  {
   "cell_type": "markdown",
   "id": "20c6aaca",
   "metadata": {},
   "source": [
    "# Question 18"
   ]
  },
  {
   "cell_type": "code",
   "execution_count": 22,
   "id": "681e6536",
   "metadata": {},
   "outputs": [],
   "source": [
    "captain[\"Enterprise\"] = \"Picard\"\n",
    "captain[\"Voyager\"] = \"Janeway\"\n",
    "captain[\"Defiant\"] = \"Sisko\""
   ]
  },
  {
   "cell_type": "code",
   "execution_count": 23,
   "id": "8290a256",
   "metadata": {},
   "outputs": [
    {
     "data": {
      "text/plain": [
       "{'Enterprise': 'Picard', 'Voyager': 'Janeway', 'Defiant': 'Sisko'}"
      ]
     },
     "execution_count": 23,
     "metadata": {},
     "output_type": "execute_result"
    }
   ],
   "source": [
    "captain"
   ]
  },
  {
   "cell_type": "markdown",
   "id": "8b610265",
   "metadata": {},
   "source": [
    "# Question 16"
   ]
  },
  {
   "cell_type": "code",
   "execution_count": 26,
   "id": "98963096",
   "metadata": {},
   "outputs": [
    {
     "name": "stdout",
     "output_type": "stream",
     "text": [
      "Enterprise Picard\n",
      "Voyager Janeway\n",
      "Defiant Sisko\n"
     ]
    }
   ],
   "source": [
    "for ship,captain in captain.items():\n",
    "    print (ship,captain)"
   ]
  },
  {
   "cell_type": "code",
   "execution_count": 28,
   "id": "e6624deb",
   "metadata": {},
   "outputs": [
    {
     "name": "stdout",
     "output_type": "stream",
     "text": [
      "S Sisko\n",
      "i Sisko\n",
      "s Sisko\n",
      "k Sisko\n",
      "o Sisko\n"
     ]
    }
   ],
   "source": [
    "for ship in captain:\n",
    "    print (ship, captain)"
   ]
  },
  {
   "cell_type": "markdown",
   "id": "f541e207",
   "metadata": {},
   "source": [
    "# Question 19"
   ]
  },
  {
   "cell_type": "code",
   "execution_count": 54,
   "id": "9181a155",
   "metadata": {},
   "outputs": [],
   "source": [
    "captain={}"
   ]
  },
  {
   "cell_type": "code",
   "execution_count": 55,
   "id": "d61d4fcb",
   "metadata": {},
   "outputs": [],
   "source": [
    "captain[\"Enterprise\"] = \"Picard\"\n",
    "captain[\"Voyager\"] = \"Janeway\"\n",
    "captain[\"Defiant\"] = \"Sisko\""
   ]
  },
  {
   "cell_type": "code",
   "execution_count": 56,
   "id": "192d0fa5",
   "metadata": {},
   "outputs": [
    {
     "data": {
      "text/plain": [
       "{'Enterprise': 'Picard', 'Voyager': 'Janeway', 'Defiant': 'Sisko'}"
      ]
     },
     "execution_count": 56,
     "metadata": {},
     "output_type": "execute_result"
    }
   ],
   "source": [
    "captain"
   ]
  },
  {
   "cell_type": "code",
   "execution_count": 57,
   "id": "242b0f27",
   "metadata": {},
   "outputs": [],
   "source": [
    "captain[\"Discovery\"]=\"unknown\""
   ]
  },
  {
   "cell_type": "code",
   "execution_count": 58,
   "id": "1664dbf5",
   "metadata": {},
   "outputs": [
    {
     "data": {
      "text/plain": [
       "{'Enterprise': 'Picard',\n",
       " 'Voyager': 'Janeway',\n",
       " 'Defiant': 'Sisko',\n",
       " 'Discovery': 'unknown'}"
      ]
     },
     "execution_count": 58,
     "metadata": {},
     "output_type": "execute_result"
    }
   ],
   "source": [
    "captain"
   ]
  },
  {
   "cell_type": "code",
   "execution_count": 42,
   "id": "5c548f26",
   "metadata": {},
   "outputs": [
    {
     "name": "stdout",
     "output_type": "stream",
     "text": [
      "the[ship]is captained by Picard.\n",
      "the[ship]is captained by Janeway.\n",
      "the[ship]is captained by Sisko.\n",
      "the[ship]is captained by unknown.\n"
     ]
    }
   ],
   "source": [
    "for ship,captain in captain.items():\n",
    "    print(f\"the[ship]is captained by {captain}.\")"
   ]
  },
  {
   "cell_type": "markdown",
   "id": "347a9fe4",
   "metadata": {},
   "source": [
    "# Question 20"
   ]
  },
  {
   "cell_type": "code",
   "execution_count": 59,
   "id": "9b642c82",
   "metadata": {},
   "outputs": [
    {
     "data": {
      "text/plain": [
       "{'Enterprise': 'Picard',\n",
       " 'Voyager': 'Janeway',\n",
       " 'Defiant': 'Sisko',\n",
       " 'Discovery': 'unknown'}"
      ]
     },
     "execution_count": 59,
     "metadata": {},
     "output_type": "execute_result"
    }
   ],
   "source": [
    "captain"
   ]
  },
  {
   "cell_type": "code",
   "execution_count": 61,
   "id": "6121a45c",
   "metadata": {},
   "outputs": [],
   "source": [
    "del captain[\"Discovery\"]"
   ]
  },
  {
   "cell_type": "code",
   "execution_count": 62,
   "id": "ad6378bf",
   "metadata": {},
   "outputs": [
    {
     "data": {
      "text/plain": [
       "{'Enterprise': 'Picard', 'Voyager': 'Janeway', 'Defiant': 'Sisko'}"
      ]
     },
     "execution_count": 62,
     "metadata": {},
     "output_type": "execute_result"
    }
   ],
   "source": [
    "captain"
   ]
  },
  {
   "cell_type": "code",
   "execution_count": null,
   "id": "7989e679",
   "metadata": {},
   "outputs": [],
   "source": []
  }
 ],
 "metadata": {
  "kernelspec": {
   "display_name": "Python 3 (ipykernel)",
   "language": "python",
   "name": "python3"
  },
  "language_info": {
   "codemirror_mode": {
    "name": "ipython",
    "version": 3
   },
   "file_extension": ".py",
   "mimetype": "text/x-python",
   "name": "python",
   "nbconvert_exporter": "python",
   "pygments_lexer": "ipython3",
   "version": "3.10.9"
  }
 },
 "nbformat": 4,
 "nbformat_minor": 5
}
