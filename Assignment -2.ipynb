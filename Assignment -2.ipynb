{
 "cells": [
  {
   "cell_type": "code",
   "execution_count": 1,
   "id": "f1624273",
   "metadata": {},
   "outputs": [],
   "source": [
    "import regex as re"
   ]
  },
  {
   "cell_type": "markdown",
   "id": "e10271d5",
   "metadata": {},
   "source": [
    "# Question 1\n",
    "Write a RegEx pattern in python program to check that a string contains only a certain set of characters (in this case a-z, A-Z and 0-9)"
   ]
  },
  {
   "cell_type": "code",
   "execution_count": 22,
   "id": "b8993797",
   "metadata": {},
   "outputs": [
    {
     "name": "stdout",
     "output_type": "stream",
     "text": [
      "String donot contains characters given in the string.\n"
     ]
    }
   ],
   "source": [
    "import re\n",
    "def valid_items(text):\n",
    "    pattern = r'^[a-zA-Z0-9]+$'\n",
    "    match = re.match(pattern, text)\n",
    "    return match is not None\n",
    "\n",
    "text = \"My name is Divya solanki and my email address is divya.solanki3@gmail.com\"\n",
    "if valid_items(text):\n",
    "    print(\"String contains only characters given in the pattern.\")\n",
    "else:\n",
    "    print(\"String donot contains characters given in the string.\")"
   ]
  },
  {
   "cell_type": "code",
   "execution_count": 21,
   "id": "9efba59c",
   "metadata": {},
   "outputs": [
    {
     "name": "stdout",
     "output_type": "stream",
     "text": [
      "String contains only characters given in the pattern.\n"
     ]
    }
   ],
   "source": [
    "import re\n",
    "def valid_items(text):\n",
    "    pattern = r'^[a-zA-Z0-9]+$'\n",
    "    match = re.match(pattern, text)\n",
    "    return match is not None\n",
    "\n",
    "text=\"DivyaSolanki01\"\n",
    "if valid_items(text):\n",
    "    print(\"String contains only characters given in the pattern.\")\n",
    "else:\n",
    "    print(\"String contains donot contains characters given in the string.\")\n",
    "\n"
   ]
  },
  {
   "cell_type": "markdown",
   "id": "5c0c4306",
   "metadata": {},
   "source": [
    "# Question 2\n",
    "Write a RegEx pattern that matches a string that has an a followed by zero or more b's"
   ]
  },
  {
   "cell_type": "code",
   "execution_count": 7,
   "id": "a0cf1a47",
   "metadata": {},
   "outputs": [
    {
     "name": "stdout",
     "output_type": "stream",
     "text": [
      "\"ab\" matches the pattern.\n",
      "\"anbb\" matches the pattern.\n",
      "\"an\" matches the pattern.\n",
      "\"abbbbb\" matches the pattern.\n",
      "\"annbbb\" matches the pattern.\n",
      "\"nab\" does not match the pattern.\n",
      "\"bbaan\" does not match the pattern.\n"
     ]
    }
   ],
   "source": [
    "import re\n",
    "pattern = r'a|an*b'\n",
    "test = [\"ab\", \"anbb\", \"an\", \"abbbbb\",\"annbbb\",\"nab\",\"bbaan\"]\n",
    "for i in test:\n",
    "    if re.match(pattern,i):\n",
    "        print(f'\"{i}\" matches the pattern.')\n",
    "    else:\n",
    "        print(f'\"{i}\" does not match the pattern.')\n"
   ]
  },
  {
   "cell_type": "markdown",
   "id": "4fcc4875",
   "metadata": {},
   "source": [
    "# Question 3\n",
    "Write a RegEx pattern that matches a string that has an a followed by one or more b's"
   ]
  },
  {
   "cell_type": "code",
   "execution_count": 8,
   "id": "8aeff990",
   "metadata": {},
   "outputs": [
    {
     "name": "stdout",
     "output_type": "stream",
     "text": [
      "\"ab\" matches the pattern.\n",
      "\"anbb\" matches the pattern.\n",
      "\"an\" does not match the pattern.\n",
      "\"abbbbb\" matches the pattern.\n",
      "\"annbbb\" does not match the pattern.\n",
      "\"nab\" does not match the pattern.\n",
      "\"bbaan\" does not match the pattern.\n"
     ]
    }
   ],
   "source": [
    "import re\n",
    "pattern = r'(a|an)b+'\n",
    "test = [\"ab\", \"anbb\", \"an\", \"abbbbb\",\"annbbb\",\"nab\",\"bbaan\"]\n",
    "for i in test:\n",
    "    if re.match(pattern,i):\n",
    "        print(f'\"{i}\" matches the pattern.')\n",
    "    else:\n",
    "        print(f'\"{i}\" does not match the pattern.')\n"
   ]
  },
  {
   "cell_type": "markdown",
   "id": "c40cc5d4",
   "metadata": {},
   "source": [
    "# Question 4\n",
    "Write a RegEx pattern that matches a string that has an a followed by zero or one 'b'"
   ]
  },
  {
   "cell_type": "code",
   "execution_count": 9,
   "id": "fa52b566",
   "metadata": {},
   "outputs": [
    {
     "name": "stdout",
     "output_type": "stream",
     "text": [
      "\"ab\" matches the pattern.\n",
      "\"anbb\" does not match the pattern.\n",
      "\"an\" matches the pattern.\n",
      "\"abbbbb\" does not match the pattern.\n",
      "\"annbbb\" does not match the pattern.\n",
      "\"nab\" does not match the pattern.\n",
      "\"bbaan\" does not match the pattern.\n"
     ]
    }
   ],
   "source": [
    "import re\n",
    "pattern = r\"(a|an)+b?$\"\n",
    "test = [\"ab\", \"anbb\", \"an\", \"abbbbb\",\"annbbb\",\"nab\",\"bbaan\"]\n",
    "for i in test:\n",
    "    if re.match(pattern, i):\n",
    "        print(f'\"{i}\" matches the pattern.')\n",
    "    else:\n",
    "        print(f'\"{i}\" does not match the pattern.')\n"
   ]
  },
  {
   "cell_type": "markdown",
   "id": "11879bdf",
   "metadata": {},
   "source": [
    "# Question 5\n",
    "- Write a RegEx pattern in python program that matches a string that has an a followed by three 'b'."
   ]
  },
  {
   "cell_type": "code",
   "execution_count": 10,
   "id": "6e270862",
   "metadata": {},
   "outputs": [
    {
     "name": "stdout",
     "output_type": "stream",
     "text": [
      "\"ab\" does not match the pattern.\n",
      "\"anbbb\" matches the pattern.\n",
      "\"an\" does not match the pattern.\n",
      "\"abbbbb\" matches the pattern.\n",
      "\"annbbb\" does not match the pattern.\n",
      "\"nab\" does not match the pattern.\n",
      "\"bbaan\" does not match the pattern.\n"
     ]
    }
   ],
   "source": [
    "import re\n",
    "pattern = r\"(a|an)b{3}\"\n",
    "test = [\"ab\", \"anbbb\", \"an\", \"abbbbb\",\"annbbb\",\"nab\",\"bbaan\"]\n",
    "for i in test:\n",
    "    if re.match(pattern,i):\n",
    "        print(f'\"{i}\" matches the pattern.')\n",
    "    else:\n",
    "        print(f'\"{i}\" does not match the pattern.')"
   ]
  },
  {
   "cell_type": "markdown",
   "id": "a3db24de",
   "metadata": {},
   "source": [
    "# Question 6\n",
    "Write a RegEx pattern in python program that matches a string that has an a followed by two to three 'b'."
   ]
  },
  {
   "cell_type": "code",
   "execution_count": 11,
   "id": "d1f6775f",
   "metadata": {},
   "outputs": [
    {
     "name": "stdout",
     "output_type": "stream",
     "text": [
      "\"ab\" does not match the pattern.\n",
      "\"anbbb\" matches the pattern.\n",
      "\"an\" does not match the pattern.\n",
      "\"abbb\" matches the pattern.\n",
      "\"annbbb\" does not match the pattern.\n",
      "\"nab\" does not match the pattern.\n",
      "\"bbaan\" does not match the pattern.\n"
     ]
    }
   ],
   "source": [
    "import re\n",
    "pattern = r\"(a|an)b{2,3}\"\n",
    "test = [\"ab\", \"anbbb\", \"an\", \"abbb\",\"annbbb\",\"nab\",\"bbaan\"]\n",
    "for i in test:\n",
    "    if re.match(pattern,i):\n",
    "        print(f'\"{i}\" matches the pattern.')\n",
    "    else:\n",
    "        print(f'\"{i}\" does not match the pattern.')"
   ]
  },
  {
   "cell_type": "markdown",
   "id": "6d5e6423",
   "metadata": {},
   "source": [
    "# Question 7\n",
    "Write a Python program that matches a string that has an 'a' followed by anything, ending in 'b'."
   ]
  },
  {
   "cell_type": "code",
   "execution_count": 13,
   "id": "bb750721",
   "metadata": {},
   "outputs": [
    {
     "name": "stdout",
     "output_type": "stream",
     "text": [
      "\"ab\" matches the pattern.\n",
      "\"anbbb\" does not match the pattern.\n",
      "\"an\" does not match the pattern.\n",
      "\"abbb\" does not match the pattern.\n",
      "\"annbbb\" does not match the pattern.\n",
      "\"nab\" does not match the pattern.\n",
      "\"bbaan\" does not match the pattern.\n"
     ]
    }
   ],
   "source": [
    "import re\n",
    "pattern = r\"a+b\\b\"\n",
    "test = [\"ab\", \"anbbb\", \"an\", \"abbb\",\"annbbb\",\"nab\",\"bbaan\"]\n",
    "for i in test:\n",
    "    if re.match(pattern, i):\n",
    "        print(f'\"{i}\" matches the pattern.')\n",
    "    else:\n",
    "        print(f'\"{i}\" does not match the pattern.')"
   ]
  },
  {
   "cell_type": "markdown",
   "id": "ace6a532",
   "metadata": {},
   "source": [
    "# Question 8\n",
    "Write a RegEx pattern in python program that matches a word at the beginning of a string."
   ]
  },
  {
   "cell_type": "code",
   "execution_count": 14,
   "id": "7bf66300",
   "metadata": {},
   "outputs": [
    {
     "name": "stdout",
     "output_type": "stream",
     "text": [
      "<regex.Match object; span=(0, 2), match='My'>\n",
      "None\n",
      "<regex.Match object; span=(0, 2), match='My'>\n"
     ]
    }
   ],
   "source": [
    "import regex as re\n",
    "pattern=r\"My\"\n",
    "test=[\"My name is Divya Solanki\",\"I did my masters in 2014\",\"My hobbies are painting\"]\n",
    "for i in test:\n",
    "    result=re.match(pattern,i)\n",
    "    print(result)"
   ]
  },
  {
   "cell_type": "markdown",
   "id": "995e231a",
   "metadata": {},
   "source": [
    "# Question 9\n",
    "Write a RegEx pattern in python program that matches a word at the end of a string"
   ]
  },
  {
   "cell_type": "code",
   "execution_count": 15,
   "id": "130827bc",
   "metadata": {},
   "outputs": [
    {
     "name": "stdout",
     "output_type": "stream",
     "text": [
      "all\n",
      "Divya\n",
      "drives\n"
     ]
    }
   ],
   "source": [
    "import regex as re\n",
    "pattern=r\"\\b\\w+\\b$\"      \n",
    "test=[\"Hello all\",\"My name is Divya\",\"I did my masters in Power system and drives\"]\n",
    "for i in test:\n",
    "    result=re.search(pattern,i)\n",
    "    print(result.group())    "
   ]
  },
  {
   "cell_type": "markdown",
   "id": "24a6c2c3",
   "metadata": {},
   "source": [
    "# Question 10\n",
    "Write a RegEx pattern in python program to find all words that are 4 digits long in a string.\n",
    "Sample text- '01 0132 231875 1458 301 2725.'\n",
    "Expected output- ['0132', '1458', '2725']"
   ]
  },
  {
   "cell_type": "code",
   "execution_count": 16,
   "id": "1a6669be",
   "metadata": {},
   "outputs": [
    {
     "name": "stdout",
     "output_type": "stream",
     "text": [
      "['0132', '1458', '2725']\n"
     ]
    }
   ],
   "source": [
    "test=\"01 0132 231875 1458 301 2725\"\n",
    "pattern=r\"\\b\\d{4}\\b\"\n",
    "result=re.findall(pattern,test)\n",
    "print(result)"
   ]
  },
  {
   "cell_type": "code",
   "execution_count": null,
   "id": "c3b74a74",
   "metadata": {},
   "outputs": [],
   "source": []
  }
 ],
 "metadata": {
  "kernelspec": {
   "display_name": "Python 3 (ipykernel)",
   "language": "python",
   "name": "python3"
  },
  "language_info": {
   "codemirror_mode": {
    "name": "ipython",
    "version": 3
   },
   "file_extension": ".py",
   "mimetype": "text/x-python",
   "name": "python",
   "nbconvert_exporter": "python",
   "pygments_lexer": "ipython3",
   "version": "3.10.9"
  }
 },
 "nbformat": 4,
 "nbformat_minor": 5
}
