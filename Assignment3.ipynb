{
 "cells": [
  {
   "cell_type": "markdown",
   "id": "41bfbb3a",
   "metadata": {},
   "source": [
    "# Assignment no. -3"
   ]
  },
  {
   "cell_type": "code",
   "execution_count": null,
   "id": "cb18bf0d",
   "metadata": {},
   "outputs": [],
   "source": [
    "import regex as re"
   ]
  },
  {
   "cell_type": "markdown",
   "id": "1cc8f5f9",
   "metadata": {},
   "source": [
    "# Question no.- 1\n",
    "Write a Python program..."
   ]
  },
  {
   "cell_type": "code",
   "execution_count": null,
   "id": "9ef03eb8",
   "metadata": {},
   "outputs": [],
   "source": [
    "text=\"Python Excersices,PHP excersices.\"\n",
    "pattern=r\"[ ,.]\"\n",
    "result=re.sub(pattern,\":\",text)\n",
    "print(result)"
   ]
  },
  {
   "cell_type": "markdown",
   "id": "c3e054cb",
   "metadata": {},
   "source": [
    "# Question no.- 2\n",
    "Write a Python program..."
   ]
  },
  {
   "cell_type": "code",
   "execution_count": null,
   "id": "3ed5a846",
   "metadata": {},
   "outputs": [],
   "source": [
    "text=\"i was going to Ahmedabad. Their i saw green apples and Eggplant\"\n",
    "pattern=r\"\\b[ae]\\w+\\b\"\n",
    "result=re.findall(pattern,text,flags=re.IGNORECASE)\n",
    "print(result)"
   ]
  }
 ],
 "metadata": {},
 "nbformat": 4,
 "nbformat_minor": 5
}
