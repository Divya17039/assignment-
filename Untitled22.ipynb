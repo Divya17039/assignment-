{
 "cells": [
  {
   "cell_type": "markdown",
   "id": "2f76385e",
   "metadata": {},
   "source": [
    "# Assignment no. -3"
   ]
  },
  {
   "cell_type": "code",
   "execution_count": 2,
   "id": "5417e8a2",
   "metadata": {},
   "outputs": [],
   "source": [
    "import regex as re"
   ]
  },
  {
   "cell_type": "markdown",
   "id": "937b7621",
   "metadata": {},
   "source": [
    "# Question no.- 1\n",
    "Write a Python program to replace all occurrences of a space, comma, or dot with a colon.\n",
    "Sample Text- 'Python Exercises, PHP exercises.'\n",
    "Expected Output: Python:Exercises::PHP:exercises:"
   ]
  },
  {
   "cell_type": "code",
   "execution_count": 17,
   "id": "7b02bf17",
   "metadata": {},
   "outputs": [
    {
     "name": "stdout",
     "output_type": "stream",
     "text": [
      "Python:Excersices:PHP:excersices:\n"
     ]
    }
   ],
   "source": [
    "text=\"Python Excersices,PHP excersices.\"\n",
    "pattern=r\"[ ,.]\"\n",
    "result=re.sub(pattern,\":\",text)\n",
    "print(result)"
   ]
  },
  {
   "cell_type": "markdown",
   "id": "2872c4c8",
   "metadata": {},
   "source": [
    "# Question no.- 2\n",
    "Write a Python program to find all words starting with 'a' or 'e' in a given string."
   ]
  },
  {
   "cell_type": "code",
   "execution_count": 24,
   "id": "25007f6d",
   "metadata": {},
   "outputs": [
    {
     "name": "stdout",
     "output_type": "stream",
     "text": [
      "['Ahmedabad', 'apples', 'and', 'Eggplant']\n"
     ]
    }
   ],
   "source": [
    "text=\"i was going to Ahmedabad. Their i saw green apples and Eggplant\"\n",
    "pattern=r\"\\b[ae]\\w+\\b\"\n",
    "result=re.findall(pattern,text,flags=re.IGNORECASE)\n",
    "print(result)"
   ]
  },
  {
   "cell_type": "markdown",
   "id": "e7dd81e7",
   "metadata": {},
   "source": [
    "# Question no. 3\n",
    "Create a function in python to find all words that are at least 4 characters long in a string. The use of the re.compile() method is mandatory."
   ]
  },
  {
   "cell_type": "code",
   "execution_count": 32,
   "id": "f0534f8c",
   "metadata": {},
   "outputs": [
    {
     "name": "stdout",
     "output_type": "stream",
     "text": [
      "['have', 'some', 'four', 'from', 'shop', 'lots']\n"
     ]
    }
   ],
   "source": [
    "pattern=r\"\\b\\w{4}+\\b\"\n",
    "regex_pattern=re.compile(pattern)\n",
    "\n",
    "text=\"I was going to market to have some fruits. i Bought four apples from shop. i had lots of fun.\"\n",
    "result=regex_pattern.findall(text)\n",
    "print(result)"
   ]
  },
  {
   "cell_type": "markdown",
   "id": "f85f47aa",
   "metadata": {},
   "source": [
    "# Question no. 4\n",
    "Create a function in python to find all three, four, and five character words in a string. The use of the re.compile() method is mandatory."
   ]
  },
  {
   "cell_type": "code",
   "execution_count": 35,
   "id": "a375f06d",
   "metadata": {
    "scrolled": true
   },
   "outputs": [
    {
     "name": "stdout",
     "output_type": "stream",
     "text": [
      "['sumit', 'class', 'five', 'nine', 'out', 'ten', 'marks']\n"
     ]
    }
   ],
   "source": [
    "pattern=r\"\\b\\w{3,5}+\\b\"\n",
    "regex_pattern=re.compile(pattern)\n",
    "\n",
    "text=\"sumit is a student of class five. he scored nine out of ten marks.\"\n",
    "result=regex_pattern.findall(text)\n",
    "print(result)"
   ]
  },
  {
   "cell_type": "markdown",
   "id": "1bad3a8f",
   "metadata": {},
   "source": [
    "# Question no. 5\n",
    "Create a function in Python to remove the parenthesis in a list of strings. The use of the re.compile() method is mandatory.\n",
    "Sample Text: [\"example (.com)\", \"hr@fliprobo (.com)\", \"github (.com)\", \"Hello (Data Science World)\", \"Data (Scientist)\"]\n",
    "Expected Output:\n",
    "example.com\n",
    "hr@fliprobo.com\n",
    "github.com\n",
    "Hello Data Science World\n",
    "Data Scientist\n"
   ]
  },
  {
   "cell_type": "code",
   "execution_count": 57,
   "id": "a55c9850",
   "metadata": {},
   "outputs": [
    {
     "name": "stdout",
     "output_type": "stream",
     "text": [
      "example .com\n",
      "hr@fliprobo .com\n",
      "github .com\n",
      "Hello Data Science World\n",
      "Data Scientist\n"
     ]
    }
   ],
   "source": [
    "pattern=r\"[(|)]\"\n",
    "regex_pattern=re.compile(pattern)\n",
    "\n",
    "text=[\"example (.com)\",\"hr@fliprobo (.com)\",\"github (.com)\",\"Hello (Data Science World)\",\"Data (Scientist)\"]\n",
    "for i in text:\n",
    "    result=regex_pattern.sub('',i)\n",
    "    print(result)"
   ]
  },
  {
   "cell_type": "markdown",
   "id": "0c2b070b",
   "metadata": {},
   "source": [
    "# Question no.:6\n",
    "    Write a python program to remove the parenthesis area from the text stored in the text file using Regular Expression.\n",
    "Sample Text: [\"example (.com)\", \"hr@fliprobo (.com)\", \"github (.com)\", \"Hello (Data Science World)\", \"Data (Scientist)\"]\n",
    "Expected Output: [\"example\", \"hr@fliprobo\", \"github\", \"Hello\", \"Data\"]\n"
   ]
  },
  {
   "cell_type": "code",
   "execution_count": 65,
   "id": "e2909199",
   "metadata": {},
   "outputs": [
    {
     "name": "stdout",
     "output_type": "stream",
     "text": [
      "example \n",
      "hr@fliprobo \n",
      "github \n",
      "Hello \n",
      "Data \n"
     ]
    }
   ],
   "source": [
    "pattern=r\"\\([^)]*\\)\"\n",
    "text=[\"example (.com)\", \"hr@fliprobo (.com)\", \"github (.com)\", \"Hello (Data Science World)\", \"Data (Scientist)\"]\n",
    "for i in text:\n",
    "    result=re.sub(pattern,'',i)\n",
    "    print(result)"
   ]
  },
  {
   "cell_type": "markdown",
   "id": "b0960167",
   "metadata": {},
   "source": [
    "# Question no. : 7\n",
    "- Write a regular expression in Python to split a string into uppercase letters.\n",
    "Sample text: “ImportanceOfRegularExpressionsInPython”\n",
    "Expected Output: [‘Importance’, ‘Of’, ‘Regular’, ‘Expression’, ‘In’, ‘Python’]\n"
   ]
  },
  {
   "cell_type": "code",
   "execution_count": 78,
   "id": "9569b6e2",
   "metadata": {},
   "outputs": [
    {
     "name": "stdout",
     "output_type": "stream",
     "text": [
      "['Importance', 'Of', 'Regular', 'Expressions', 'In', 'Python']\n"
     ]
    }
   ],
   "source": [
    "pattern=r'[A-Z][a-z]*'\n",
    "text='ImportanceOfRegularExpressionsInPython'\n",
    "result=re.findall(pattern,text)\n",
    "print(result)"
   ]
  },
  {
   "cell_type": "markdown",
   "id": "908b1fce",
   "metadata": {},
   "source": [
    "# Question no.: 8\n",
    "Create a function in python to insert spaces between words starting with numbers.\n",
    "Sample Text: “RegularExpression1IsAn2ImportantTopic3InPython\"\n",
    "Expected Output: RegularExpression 1IsAn 2ImportantTopic 3InPython\n"
   ]
  },
  {
   "cell_type": "code",
   "execution_count": 86,
   "id": "51aad88c",
   "metadata": {},
   "outputs": [
    {
     "name": "stdout",
     "output_type": "stream",
     "text": [
      "RegularExpression 1IsAn 2ImportantTopic 3InPython\n"
     ]
    }
   ],
   "source": [
    "pattern=r\"(?<=[A-Za-z])(\\d)\"\n",
    "text='RegularExpression1IsAn2ImportantTopic3InPython' \n",
    "result=re.sub(pattern,r\" \\1\",text)\n",
    "print(result)"
   ]
  },
  {
   "cell_type": "markdown",
   "id": "d234c2c7",
   "metadata": {},
   "source": [
    "# Question no.: 9\n",
    "Create a function in python to insert spaces between words starting with capital letters or with numbers.\n",
    "Sample Text: “RegularExpression1IsAn2ImportantTopic3InPython\"\n",
    "Expected Output:  RegularExpression 1 IsAn 2 ImportantTopic 3 InPython\n"
   ]
  },
  {
   "cell_type": "code",
   "execution_count": 93,
   "id": "94c1efab",
   "metadata": {},
   "outputs": [
    {
     "name": "stdout",
     "output_type": "stream",
     "text": [
      "RegularExpression 1IsAn 2ImportantTopic 3InPython\n"
     ]
    }
   ],
   "source": [
    "pattern=r\"([A-Z0-9])(?=[A-Z])\"\n",
    "text=\"RegularExpression1IsAn2ImportantTopic3InPython\"\n",
    "result=re.sub(pattern,r\" \\1\",text)\n",
    "print(result)"
   ]
  },
  {
   "cell_type": "markdown",
   "id": "2fd85414",
   "metadata": {},
   "source": [
    "# Question no.: 10\n",
    "Write a python program to extract email address from the text stored in the text file using Regular Expression.\n",
    "Sample Text- Hello my name is Data Science and my email address is xyz@domain.com and alternate email address is xyz.abc@sdomain.domain.com. \n",
    "Please contact us at hr@fliprobo.com for further information. \n",
    "Expected Output: \n",
    "['xyz@domain.com', 'xyz.abc@sdomain.domain.com']\n",
    "['hr@fliprobo.com']\n"
   ]
  },
  {
   "cell_type": "code",
   "execution_count": 98,
   "id": "3ebcb5ae",
   "metadata": {},
   "outputs": [
    {
     "name": "stdout",
     "output_type": "stream",
     "text": [
      "['xyz@domain.com', 'xyz.abc@sdomain.domain.com', 'hr@fliprobo.com']\n"
     ]
    }
   ],
   "source": [
    "pattern=r'\\b[A-Za-z0-9.]+@[A-Za-z0-9.]+\\.[A-Z|a-z]{2,7}\\b'\n",
    "text=\"Hello my name is Data Science and my email address is xyz@domain.com and alternate email address is xyz.abc@sdomain.domain.com. Please contact us at hr@fliprobo.com for further information\"\n",
    "result=re.findall(pattern,text)\n",
    "print(result)"
   ]
  },
  {
   "cell_type": "markdown",
   "id": "33723153",
   "metadata": {},
   "source": [
    "# Question no. 11\n",
    "Write a Python program to match a string that contains only upper and lowercase letters, numbers, and underscores."
   ]
  },
  {
   "cell_type": "code",
   "execution_count": 111,
   "id": "68053bea",
   "metadata": {},
   "outputs": [
    {
     "name": "stdout",
     "output_type": "stream",
     "text": [
      "<regex.Match object; span=(0, 16), match='DivyaSolanki_123'>\n",
      "<regex.Match object; span=(0, 6), match='yash_1'>\n",
      "None\n",
      "<regex.Match object; span=(0, 11), match='Palnpur_231'>\n",
      "None\n"
     ]
    }
   ],
   "source": [
    "import regex as re\n",
    "pattern=r'^[A-Za-z0-9_]+$'\n",
    "test=[\"DivyaSolanki_123\",\"yash_1\",\"1.Powersystem\",\"Palnpur_231\",\"GoodMornings$%\"]\n",
    "for i in test:\n",
    "    result=re.match(pattern,i)\n",
    "    print(result)"
   ]
  },
  {
   "cell_type": "markdown",
   "id": "16ba0750",
   "metadata": {},
   "source": [
    "# Question no.: 12\n",
    "Write a Python program where a string will start with a specific number. "
   ]
  },
  {
   "cell_type": "code",
   "execution_count": 112,
   "id": "48677764",
   "metadata": {},
   "outputs": [
    {
     "name": "stdout",
     "output_type": "stream",
     "text": [
      "<regex.Match object; span=(0, 1), match='1'>\n",
      "None\n",
      "<regex.Match object; span=(0, 1), match='1'>\n",
      "None\n",
      "<regex.Match object; span=(0, 1), match='1'>\n"
     ]
    }
   ],
   "source": [
    "pattern=r'^1'\n",
    "test=[\"123\",\"23456\",\"12345\",\"23456\",\"12345678\"]\n",
    "for i in test:\n",
    "    result=re.search(pattern,i)\n",
    "    print(result)"
   ]
  },
  {
   "cell_type": "markdown",
   "id": "a9d19aa4",
   "metadata": {},
   "source": [
    "# Question no. 13\n",
    "Write a Python program to remove leading zeros from an IP address"
   ]
  },
  {
   "cell_type": "code",
   "execution_count": 113,
   "id": "4ec8ae5e",
   "metadata": {},
   "outputs": [
    {
     "name": "stdout",
     "output_type": "stream",
     "text": [
      "76543\n",
      "213456\n",
      "12345678\n",
      "1234567\n",
      "234\n"
     ]
    }
   ],
   "source": [
    "pattern=r\"^0+\"\n",
    "test=[\"00000076543\",\"0000213456\",\"0012345678\",\"01234567\",\"0000000234\"]\n",
    "for i in test:\n",
    "    result=re.sub(pattern,\"\",i)\n",
    "    print(result)"
   ]
  },
  {
   "cell_type": "markdown",
   "id": "e0941ac2",
   "metadata": {},
   "source": [
    "# Question no. 14\n",
    "Write a regular expression in python to match a date string in the form of Month name followed by day number and year stored in a text file.\n",
    "Sample text :  ' On August 15th 1947 that India was declared independent from British colonialism, and the reins of control were handed over to the leaders of the Country’.\n",
    "Expected Output- August 15th 1947\n"
   ]
  },
  {
   "cell_type": "code",
   "execution_count": 117,
   "id": "d1061cc4",
   "metadata": {},
   "outputs": [
    {
     "name": "stdout",
     "output_type": "stream",
     "text": [
      "<regex.Match object; span=(3, 19), match='August 15th 1947'>\n"
     ]
    }
   ],
   "source": [
    "pattern=r\"[A-Za-z]+\\s+[0-9a-z]+\\s+[0-9]+\"\n",
    "test=\"On August 15th 1947 that India was declared independent from British colonialism, and the reins of control were handed over to the leaders of the Country\"\n",
    "result=re.search(pattern,test)\n",
    "print(result)"
   ]
  },
  {
   "cell_type": "markdown",
   "id": "1f088bab",
   "metadata": {},
   "source": [
    "# Question no.: 15\n",
    "Write a Python program to search some literals strings in a string. \n",
    "Sample text : 'The quick brown fox jumps over the lazy dog.'\n",
    "Searched words : 'fox', 'dog', 'horse'\n"
   ]
  },
  {
   "cell_type": "code",
   "execution_count": 118,
   "id": "4046ebff",
   "metadata": {},
   "outputs": [
    {
     "name": "stdout",
     "output_type": "stream",
     "text": [
      "<regex.Match object; span=(16, 19), match='fox'>\n",
      "<regex.Match object; span=(40, 43), match='dog'>\n",
      "None\n"
     ]
    }
   ],
   "source": [
    "pattern=[\"fox\",\"dog\",\"horse\"]\n",
    "text=\"The quick brown fox jumps over the lazy dog.\"\n",
    "for i in pattern:\n",
    "    result=re.search(i,text)\n",
    "    print(result)"
   ]
  },
  {
   "cell_type": "markdown",
   "id": "347c1864",
   "metadata": {},
   "source": [
    "# Question no.: 16\n",
    "Write a Python program to search a literals string in a string and also find the location within the original string where the pattern occurs\n",
    "Sample text : 'The quick brown fox jumps over the lazy dog.'\n",
    "Searched words : 'fox'\n"
   ]
  },
  {
   "cell_type": "code",
   "execution_count": 119,
   "id": "acd64f2c",
   "metadata": {},
   "outputs": [
    {
     "name": "stdout",
     "output_type": "stream",
     "text": [
      "<regex.Match object; span=(16, 19), match='fox'>\n"
     ]
    }
   ],
   "source": [
    "pattern=\"fox\"\n",
    "test=\"The quick brown fox jumps over the lazy dog.\"\n",
    "result=re.search(pattern,test)\n",
    "print(result)\n"
   ]
  },
  {
   "cell_type": "markdown",
   "id": "fd9dab56",
   "metadata": {},
   "source": [
    "# Question no.:17\n",
    "Write a Python program to find the substrings within a string.\n",
    "Sample text : 'Python exercises, PHP exercises, C# exercises'\n",
    "Pattern : 'exercises'.\n"
   ]
  },
  {
   "cell_type": "code",
   "execution_count": 122,
   "id": "0d103dfd",
   "metadata": {},
   "outputs": [
    {
     "name": "stdout",
     "output_type": "stream",
     "text": [
      "['exercises', 'exercises', 'exercises']\n"
     ]
    }
   ],
   "source": [
    "pattern=\"exercises\"\n",
    "text=\"Python exercises, PHP exercises, C# exercises\"\n",
    "result=re.findall(pattern,text)\n",
    "print(result)"
   ]
  },
  {
   "cell_type": "markdown",
   "id": "a70bbf74",
   "metadata": {},
   "source": [
    "# Question no.: 18\n",
    "Write a Python program to find the occurrence and position of the substrings within a string."
   ]
  },
  {
   "cell_type": "code",
   "execution_count": 129,
   "id": "39288f6c",
   "metadata": {},
   "outputs": [
    {
     "name": "stdout",
     "output_type": "stream",
     "text": [
      "<regex.Match object; span=(10, 18), match='Palanpur'>\n",
      "Palanpur\n",
      "<regex.Match object; span=(24, 32), match='Palanpur'>\n",
      "Palanpur\n"
     ]
    }
   ],
   "source": [
    "import regex as re\n",
    "text=\"I live in Palanpur now. Palanpur is a nice place to live \"\n",
    "pattern=\"Palanpur\"\n",
    "result=re.finditer(\"Palanpur\",text)\n",
    "for match in result:\n",
    "    print(match)\n",
    "    print(match.group())"
   ]
  },
  {
   "cell_type": "markdown",
   "id": "7ae298f5",
   "metadata": {},
   "source": [
    "# Question no. :19\n",
    "- Write a Python program to convert a date of yyyy-mm-dd format to dd-mm-yyyy format."
   ]
  },
  {
   "cell_type": "code",
   "execution_count": 11,
   "id": "f82963b7",
   "metadata": {},
   "outputs": [
    {
     "name": "stdout",
     "output_type": "stream",
     "text": [
      "My date of birth is : 17-03-1991\n"
     ]
    }
   ],
   "source": [
    "from datetime import datetime\n",
    "test='1991-3-17'\n",
    "date=datetime.strptime(test,'%Y-%m-%d')\n",
    "formatted_date=date.strftime('%d-%m-%Y')\n",
    "print(\"My date of birth is :\",formatted_date)"
   ]
  },
  {
   "cell_type": "markdown",
   "id": "3df50a44",
   "metadata": {},
   "source": [
    "# Question no.: 20\n",
    "Create a function in python to find all decimal numbers with a precision of 1 or 2 in a string. The use of the re.compile() method is mandatory.\n",
    "Sample Text: \"01.12 0132.123 2.31875 145.8 3.01 27.25 0.25\"\n",
    "Expected Output: ['01.12', '145.8', '3.01', '27.25', '0.25']\n"
   ]
  },
  {
   "cell_type": "code",
   "execution_count": 21,
   "id": "9e3f8584",
   "metadata": {},
   "outputs": [
    {
     "name": "stdout",
     "output_type": "stream",
     "text": [
      "['01.12', '145.8', '3.01', '27.25', '0.25']\n"
     ]
    }
   ],
   "source": [
    "import regex as re\n",
    "pattern=r\"\\b\\d+\\.\\d{1,2}\\b\"\n",
    "string=re.compile(pattern)\n",
    "test=\"01.12 0132.123 2.31875 145.8 3.01 27.25 0.25\"\n",
    "result=string.findall(test)\n",
    "print(result)"
   ]
  },
  {
   "cell_type": "markdown",
   "id": "ce6ed43a",
   "metadata": {},
   "source": [
    "# Question no.:21\n",
    "Write a Python program to separate and print the numbers and their position of a given string."
   ]
  },
  {
   "cell_type": "code",
   "execution_count": 23,
   "id": "9a8d5c28",
   "metadata": {},
   "outputs": [
    {
     "name": "stdout",
     "output_type": "stream",
     "text": [
      "<regex.Match object; span=(51, 53), match='40'>\n",
      "<regex.Match object; span=(83, 85), match='30'>\n",
      "<regex.Match object; span=(107, 109), match='10'>\n"
     ]
    }
   ],
   "source": [
    "text=\"i was going to the market and found some apples at 40rs. i bargained i got them at 30rs. i had a profit of 10 rs\"\n",
    "pattern=r\"\\d+\"\n",
    "result=re.finditer(pattern,text)\n",
    "for match in result:\n",
    "    print(match)"
   ]
  },
  {
   "cell_type": "markdown",
   "id": "4dd5fde3",
   "metadata": {},
   "source": [
    "# Question no.: 22\n",
    "Write a regular expression in python program to extract maximum/largest numeric value from a string."
   ]
  },
  {
   "cell_type": "code",
   "execution_count": 30,
   "id": "a347d4b2",
   "metadata": {},
   "outputs": [
    {
     "name": "stdout",
     "output_type": "stream",
     "text": [
      "123456789\n"
     ]
    }
   ],
   "source": [
    "string=[1234,76543,87,9,123456789,234,3245,123456]\n",
    "result=max(string)\n",
    "print(result)"
   ]
  },
  {
   "cell_type": "markdown",
   "id": "5073c1dc",
   "metadata": {},
   "source": [
    "# Question no.: 22\n",
    "Write a regular expression in python program to extract maximum/largest numeric value from a string.\n",
    "Sample Text:  'My marks in each semester are: 947, 896, 926, 524, 734, 950, 642'\n",
    "Expected Output: 950\n"
   ]
  },
  {
   "cell_type": "code",
   "execution_count": 34,
   "id": "e786fd13",
   "metadata": {},
   "outputs": [
    {
     "name": "stdout",
     "output_type": "stream",
     "text": [
      "['947', '896', '926', '524', '734', '950', '642']\n",
      "950\n"
     ]
    }
   ],
   "source": [
    "test=\"My marks in each semester are: 947, 896, 926, 524, 734, 950, 642\"\n",
    "\n",
    "pattern=r\"\\d+\"\n",
    "result=re.findall(pattern,test)\n",
    "print(result)\n",
    "\n",
    "max_value=max(result)\n",
    "print(max_value)"
   ]
  },
  {
   "cell_type": "markdown",
   "id": "5164f337",
   "metadata": {},
   "source": [
    "# Question no.: 23\n",
    "Create a function in python to insert spaces between words starting with capital letters.\n",
    "Sample Text: “RegularExpressionIsAnImportantTopicInPython\"\n",
    "Expected Output: Regular Expression Is An Important Topic In Python\n",
    "    "
   ]
  },
  {
   "cell_type": "code",
   "execution_count": 44,
   "id": "042ff52d",
   "metadata": {},
   "outputs": [
    {
     "name": "stdout",
     "output_type": "stream",
     "text": [
      " \u0001egular \u0001xpression \u0001s \u0001n \u0001mportant \u0001opic \u0001n \u0001ython\n"
     ]
    }
   ],
   "source": [
    "text=\"RegularExpressionIsAnImportantTopicInPython\"\n",
    "pattern=r\"[A-Z]\"\n",
    "result=re.sub(pattern,' \\1',text)\n",
    "print(result)"
   ]
  },
  {
   "cell_type": "markdown",
   "id": "004a6a6f",
   "metadata": {},
   "source": [
    "# Question no.: 24\n",
    "- Python regex to find sequences of one upper case letter followed by lower case letters"
   ]
  },
  {
   "cell_type": "code",
   "execution_count": 57,
   "id": "e43dd847",
   "metadata": {},
   "outputs": [
    {
     "name": "stdout",
     "output_type": "stream",
     "text": [
      "['My', 'Is', 'Divya', 'Live', 'Palanpur', 'The']\n"
     ]
    }
   ],
   "source": [
    "pattern=r\"\\b[A-Z][a-zA-Z]*[a-z]\\b\"\n",
    "text=\" My name Is Divya solanki. i Live in Palanpur for The past 1 year.\"\n",
    "result=re.findall(pattern,text)\n",
    "print(result)"
   ]
  },
  {
   "cell_type": "markdown",
   "id": "223037c5",
   "metadata": {},
   "source": [
    "# Question no.: 25\n",
    "Write a Python program to remove continuous duplicate words from Sentence using Regular Expression.\n",
    "Sample Text: \"Hello hello world world\"\n",
    "Expected Output: Hello hello world\n"
   ]
  },
  {
   "cell_type": "code",
   "execution_count": 76,
   "id": "5d8819ec",
   "metadata": {},
   "outputs": [
    {
     "ename": "error",
     "evalue": "invalid group reference",
     "output_type": "error",
     "traceback": [
      "\u001b[1;31m---------------------------------------------------------------------------\u001b[0m",
      "\u001b[1;31merror\u001b[0m                                     Traceback (most recent call last)",
      "Cell \u001b[1;32mIn[76], line 4\u001b[0m\n\u001b[0;32m      2\u001b[0m text\u001b[38;5;241m=\u001b[39m\u001b[38;5;124mr\u001b[39m\u001b[38;5;124m\"\u001b[39m\u001b[38;5;124mHello hello world world\u001b[39m\u001b[38;5;124m\"\u001b[39m\n\u001b[0;32m      3\u001b[0m Pattern\u001b[38;5;241m=\u001b[39m\u001b[38;5;124mr\u001b[39m\u001b[38;5;124m\"\u001b[39m\u001b[38;5;124m\\\u001b[39m\u001b[38;5;124mb(\u001b[39m\u001b[38;5;124m\\\u001b[39m\u001b[38;5;124mw+)\u001b[39m\u001b[38;5;124m\\\u001b[39m\u001b[38;5;124ms+\u001b[39m\u001b[38;5;124m\\\u001b[39m\u001b[38;5;124m1\u001b[39m\u001b[38;5;124m\\\u001b[39m\u001b[38;5;124mb\u001b[39m\u001b[38;5;124m\"\u001b[39m\n\u001b[1;32m----> 4\u001b[0m result\u001b[38;5;241m=\u001b[39m\u001b[43mre\u001b[49m\u001b[38;5;241;43m.\u001b[39;49m\u001b[43msub\u001b[49m\u001b[43m(\u001b[49m\u001b[43mpattern\u001b[49m\u001b[43m,\u001b[49m\u001b[38;5;124;43mr\u001b[39;49m\u001b[38;5;124;43m'\u001b[39;49m\u001b[38;5;124;43m\\\u001b[39;49m\u001b[38;5;124;43m1\u001b[39;49m\u001b[38;5;124;43m'\u001b[39;49m\u001b[43m,\u001b[49m\u001b[43mtext\u001b[49m\u001b[43m,\u001b[49m\u001b[43mflags\u001b[49m\u001b[38;5;241;43m=\u001b[39;49m\u001b[43mre\u001b[49m\u001b[38;5;241;43m.\u001b[39;49m\u001b[43mIGNORECASE\u001b[49m\u001b[43m)\u001b[49m\n\u001b[0;32m      5\u001b[0m \u001b[38;5;28mprint\u001b[39m(result)\n",
      "File \u001b[1;32m~\\anaconda3\\lib\\site-packages\\regex\\regex.py:278\u001b[0m, in \u001b[0;36msub\u001b[1;34m(pattern, repl, string, count, flags, pos, endpos, concurrent, timeout, ignore_unused, **kwargs)\u001b[0m\n\u001b[0;32m    272\u001b[0m \u001b[38;5;124;03m\"\"\"Return the string obtained by replacing the leftmost (or rightmost with a\u001b[39;00m\n\u001b[0;32m    273\u001b[0m \u001b[38;5;124;03mreverse pattern) non-overlapping occurrences of the pattern in string by the\u001b[39;00m\n\u001b[0;32m    274\u001b[0m \u001b[38;5;124;03mreplacement repl. repl can be either a string or a callable; if a string,\u001b[39;00m\n\u001b[0;32m    275\u001b[0m \u001b[38;5;124;03mbackslash escapes in it are processed; if a callable, it's passed the match\u001b[39;00m\n\u001b[0;32m    276\u001b[0m \u001b[38;5;124;03mobject and must return a replacement string to be used.\"\"\"\u001b[39;00m\n\u001b[0;32m    277\u001b[0m pat \u001b[38;5;241m=\u001b[39m _compile(pattern, flags, ignore_unused, kwargs, \u001b[38;5;28;01mTrue\u001b[39;00m)\n\u001b[1;32m--> 278\u001b[0m \u001b[38;5;28;01mreturn\u001b[39;00m \u001b[43mpat\u001b[49m\u001b[38;5;241;43m.\u001b[39;49m\u001b[43msub\u001b[49m\u001b[43m(\u001b[49m\u001b[43mrepl\u001b[49m\u001b[43m,\u001b[49m\u001b[43m \u001b[49m\u001b[43mstring\u001b[49m\u001b[43m,\u001b[49m\u001b[43m \u001b[49m\u001b[43mcount\u001b[49m\u001b[43m,\u001b[49m\u001b[43m \u001b[49m\u001b[43mpos\u001b[49m\u001b[43m,\u001b[49m\u001b[43m \u001b[49m\u001b[43mendpos\u001b[49m\u001b[43m,\u001b[49m\u001b[43m \u001b[49m\u001b[43mconcurrent\u001b[49m\u001b[43m,\u001b[49m\u001b[43m \u001b[49m\u001b[43mtimeout\u001b[49m\u001b[43m)\u001b[49m\n",
      "\u001b[1;31merror\u001b[0m: invalid group reference"
     ]
    }
   ],
   "source": [
    "import regex as re\n",
    "text=r\"Hello hello world world\"\n",
    "Pattern=r\"\\b(\\w+)\\s+\\1\\b\"\n",
    "result=re.sub(pattern,r'\\1',text,flags=re.IGNORECASE)\n",
    "print(result)"
   ]
  },
  {
   "cell_type": "markdown",
   "id": "69158171",
   "metadata": {},
   "source": [
    "# Question .: 26\n",
    "Write a python program using RegEx to accept string ending with alphanumeric character.\n"
   ]
  },
  {
   "cell_type": "code",
   "execution_count": 82,
   "id": "3582e594",
   "metadata": {},
   "outputs": [
    {
     "name": "stdout",
     "output_type": "stream",
     "text": [
      "\u0001 \u0001 \u0001 \u0001\n"
     ]
    }
   ],
   "source": [
    "pattern=\".*[a-zA-Z0-9]$\"\n",
    "text=\"hello123\"\n",
    "rseult=re.match(pattern,text)\n",
    "print(result)"
   ]
  },
  {
   "cell_type": "code",
   "execution_count": null,
   "id": "29ba06be",
   "metadata": {},
   "outputs": [],
   "source": []
  },
  {
   "cell_type": "code",
   "execution_count": null,
   "id": "6e1c4161",
   "metadata": {},
   "outputs": [],
   "source": []
  }
 ],
 "metadata": {
  "kernelspec": {
   "display_name": "Python 3 (ipykernel)",
   "language": "python",
   "name": "python3"
  },
  "language_info": {
   "codemirror_mode": {
    "name": "ipython",
    "version": 3
   },
   "file_extension": ".py",
   "mimetype": "text/x-python",
   "name": "python",
   "nbconvert_exporter": "python",
   "pygments_lexer": "ipython3",
   "version": "3.10.9"
  }
 },
 "nbformat": 4,
 "nbformat_minor": 5
}
