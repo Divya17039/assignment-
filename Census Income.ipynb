{
 "cells": [
  {
   "cell_type": "markdown",
   "id": "a4138b36",
   "metadata": {},
   "source": [
    "# Census Income"
   ]
  },
  {
   "cell_type": "code",
   "execution_count": null,
   "id": "8ac1dbf6",
   "metadata": {},
   "outputs": [],
   "source": [
    "import pandas as pd\n",
    "import numpy as np\n",
    "import seaborn as sns\n",
    "import matplotlib.pyplot as plt\n",
    "import warnings\n",
    "warnings.filterwarnings(\"ignore\")"
   ]
  },
  {
   "cell_type": "code",
   "execution_count": null,
   "id": "04aa5c0e",
   "metadata": {},
   "outputs": [],
   "source": [
    "df=pd.read_csv(\"https://raw.githubusercontent.com/dsrscientist/dataset1/master/census_income.csv\")\n",
    "df"
   ]
  },
  {
   "cell_type": "code",
   "execution_count": null,
   "id": "4aa3f908",
   "metadata": {},
   "outputs": [],
   "source": [
    "df.dtypes\n",
    "df['Sex'].unique()"
   ]
  },
  {
   "cell_type": "code",
   "execution_count": null,
   "id": "c0e37e7a",
   "metadata": {},
   "outputs": [],
   "source": [
    "df.isnull().sum()"
   ]
  },
  {
   "cell_type": "code",
   "execution_count": null,
   "id": "aee7d486",
   "metadata": {},
   "outputs": [],
   "source": [
    "df.shape"
   ]
  },
  {
   "cell_type": "code",
   "execution_count": null,
   "id": "17764351",
   "metadata": {},
   "outputs": [],
   "source": [
    "df.columns"
   ]
  },
  {
   "cell_type": "code",
   "execution_count": null,
   "id": "cd6fc000",
   "metadata": {},
   "outputs": [],
   "source": [
    "df.info()"
   ]
  },
  {
   "cell_type": "code",
   "execution_count": null,
   "id": "fa707fa4",
   "metadata": {},
   "outputs": [],
   "source": [
    "df.describe()"
   ]
  },
  {
   "cell_type": "code",
   "execution_count": null,
   "id": "7789d24e",
   "metadata": {},
   "outputs": [],
   "source": [
    "df.columns"
   ]
  },
  {
   "cell_type": "code",
   "execution_count": null,
   "id": "0c5c59ff",
   "metadata": {},
   "outputs": [],
   "source": [
    "sns.countplot(x='Income',data=df)"
   ]
  },
  {
   "cell_type": "code",
   "execution_count": null,
   "id": "9452acd5",
   "metadata": {},
   "outputs": [],
   "source": [
    "df['Income'].value_counts()"
   ]
  },
  {
   "cell_type": "code",
   "execution_count": null,
   "id": "27ff1b86",
   "metadata": {},
   "outputs": [],
   "source": [
    "print(\"%age of people having more than 50K salary: \", (round(24719/32561*100,2)))"
   ]
  },
  {
   "cell_type": "code",
   "execution_count": null,
   "id": "1daea7bb",
   "metadata": {},
   "outputs": [],
   "source": [
    "print(\"%age of people having less than 50K salary: \", (round(7841/32561*100,2)))"
   ]
  },
  {
   "cell_type": "code",
   "execution_count": null,
   "id": "3365b046",
   "metadata": {},
   "outputs": [],
   "source": [
    "pd.crosstab(df['Age'],df['Income'])     # analysis of age and income of indiviual"
   ]
  },
  {
   "cell_type": "code",
   "execution_count": null,
   "id": "587e1155",
   "metadata": {},
   "outputs": [],
   "source": [
    "sns.heatmap(pd.crosstab(df['Age'],df['Income']))"
   ]
  },
  {
   "cell_type": "code",
   "execution_count": null,
   "id": "41fefa51",
   "metadata": {},
   "outputs": [],
   "source": [
    "sns.pairplot(data=df,hue='Income')"
   ]
  },
  {
   "cell_type": "code",
   "execution_count": null,
   "id": "d3fb098a",
   "metadata": {},
   "outputs": [],
   "source": [
    "sns.clustermap(pd.crosstab(df['Education'],df['Income']))"
   ]
  },
  {
   "cell_type": "code",
   "execution_count": null,
   "id": "48304553",
   "metadata": {},
   "outputs": [],
   "source": [
    "df['Workclass'].value_counts()"
   ]
  },
  {
   "cell_type": "code",
   "execution_count": null,
   "id": "7c936407",
   "metadata": {},
   "outputs": [],
   "source": [
    "pd.crosstab(df['Workclass'],df['Income'])"
   ]
  },
  {
   "cell_type": "code",
   "execution_count": null,
   "id": "1107f064",
   "metadata": {},
   "outputs": [],
   "source": [
    "sns.heatmap(pd.crosstab(df['Workclass'],df['Income']))"
   ]
  },
  {
   "cell_type": "code",
   "execution_count": null,
   "id": "47c091ae",
   "metadata": {},
   "outputs": [],
   "source": [
    "sns.barplot(x=df['Occupation'],y=df['Income'],hue=df['Sex'])"
   ]
  },
  {
   "cell_type": "code",
   "execution_count": null,
   "id": "ec6bc834",
   "metadata": {},
   "outputs": [],
   "source": [
    "sns.boxplot(x=df['Hours_per_week'],y=df['Income'],hue=df['Sex'])"
   ]
  },
  {
   "cell_type": "markdown",
   "id": "24281c56",
   "metadata": {},
   "source": [
    "converting the categorical data to numerical data"
   ]
  },
  {
   "cell_type": "code",
   "execution_count": null,
   "id": "949746f8",
   "metadata": {},
   "outputs": [],
   "source": [
    "df.info()"
   ]
  },
  {
   "cell_type": "code",
   "execution_count": null,
   "id": "3661c19a",
   "metadata": {},
   "outputs": [],
   "source": [
    "df['Workclass']=df['Workclass'].map({' Self-emp-not-inc':1, ' Private':2, ' State-gov':3, ' Federal-gov':4,' Local-gov':5, ' ?':0, ' Self-emp-inc':6, ' Without-pay':7,' Never-worked':8})\n",
    "df['Education']=df['Education'].map({' Bachelors':1, ' HS-grad':2, ' 11th':3, ' Masters':4, ' 9th':5,' Some-college':6, ' Assoc-acdm':7, ' Assoc-voc':8, ' 7th-8th':9,' Doctorate':10, ' Prof-school':11, ' 5th-6th':12, ' 10th':13, ' 1st-4th':14,' Preschool':15, ' 12th':16})\n",
    "df['Marital_status']=df['Marital_status'].map({' Married-civ-spouse':1, ' Divorced':2, ' Married-spouse-absent':3,' Never-married':4, ' Separated':5, ' Married-AF-spouse':6, ' Widowed':7})\n",
    "df['Occupation']=df['Occupation'].map({' Exec-managerial':1, 'Handlers-cleaners':2, ' Prof-specialty':3,' Other-service':4, ' Adm-clerical':5, ' Sales':6, ' Craft-repair':7,' Transport-moving':8, ' Farming-fishing':9, ' Machine-op-inspct':10,' Tech-support':11, ' ?':0, ' Protective-serv':12, ' Armed-Forces':13,' Priv-house-serv':14})\n",
    "df['Relationship']=df['Relationship'].map({' Husband':1, ' Not-in-family':2, ' Wife':3, ' Own-child':4, ' Unmarried':5,' Other-relative':6})\n",
    "df['Race']=df['Race'].map({' White':1, ' Black':2, ' Asian-Pac-Islander':3, ' Amer-Indian-Eskimo':4,' Other':5})\n",
    "df['Sex']=df['Sex'].map({' Male':1, ' Female':2})\n"
   ]
  },
  {
   "cell_type": "code",
   "execution_count": null,
   "id": "69700975",
   "metadata": {},
   "outputs": [],
   "source": [
    "from sklearn.preprocessing import LabelEncoder \n",
    "label_encoder=LabelEncoder()\n",
    "df['Income'] = label_encoder.fit_transform(df['Income'])\n",
    "df['Native_country'] = label_encoder.fit_transform(df['Native_country'])"
   ]
  },
  {
   "cell_type": "code",
   "execution_count": null,
   "id": "e83c22c1",
   "metadata": {},
   "outputs": [],
   "source": [
    "df.fillna(df.median(), inplace=True)\n",
    "df"
   ]
  },
  {
   "cell_type": "markdown",
   "id": "9ce43082",
   "metadata": {},
   "source": [
    "# Z score"
   ]
  },
  {
   "cell_type": "code",
   "execution_count": null,
   "id": "d70a08ac",
   "metadata": {},
   "outputs": [],
   "source": [
    "from scipy.stats import zscore\n",
    "out_features=df[['Age', 'Workclass', 'Fnlwgt', 'Education', 'Education_num',\n",
    "       'Marital_status', 'Occupation', 'Relationship', 'Race', 'Sex',\n",
    "       'Capital_gain', 'Capital_loss', 'Hours_per_week', 'Native_country',\n",
    "       'Income']]\n",
    "z=np.abs(zscore(out_features))    #\n",
    "z"
   ]
  },
  {
   "cell_type": "code",
   "execution_count": null,
   "id": "2b538418",
   "metadata": {},
   "outputs": [],
   "source": [
    "np.where(z>3)"
   ]
  },
  {
   "cell_type": "code",
   "execution_count": null,
   "id": "217e5cad",
   "metadata": {},
   "outputs": [],
   "source": [
    "df1=df[(z<3).all(axis=1)]\n",
    "df1.shape"
   ]
  },
  {
   "cell_type": "code",
   "execution_count": null,
   "id": "2fe9df71",
   "metadata": {},
   "outputs": [],
   "source": [
    "print(\"old dataframe: \",df.shape[0])\n",
    "print(\"new dataframe: \",df1.shape[0])"
   ]
  },
  {
   "cell_type": "code",
   "execution_count": null,
   "id": "6a92b872",
   "metadata": {},
   "outputs": [],
   "source": [
    "print(\"data loss percentage:\",((df.shape[0]-df1.shape[0])/df.shape[0])*100)"
   ]
  },
  {
   "cell_type": "code",
   "execution_count": null,
   "id": "80da5ec0",
   "metadata": {},
   "outputs": [],
   "source": [
    "df1"
   ]
  },
  {
   "cell_type": "code",
   "execution_count": null,
   "id": "034091db",
   "metadata": {},
   "outputs": [],
   "source": [
    "df1.corr()"
   ]
  },
  {
   "cell_type": "code",
   "execution_count": null,
   "id": "5eaf3fd5",
   "metadata": {},
   "outputs": [],
   "source": [
    "plt.figure(figsize=(26,14))\n",
    "sns.heatmap(df1.corr(),annot=True,fmt='0.2f')"
   ]
  },
  {
   "cell_type": "code",
   "execution_count": null,
   "id": "5e5872a7",
   "metadata": {},
   "outputs": [],
   "source": [
    "df1.corr().Income.sort_values()"
   ]
  },
  {
   "cell_type": "code",
   "execution_count": null,
   "id": "6b56bd7c",
   "metadata": {},
   "outputs": [],
   "source": [
    "df['Age']=np.log(df['Age'])\n",
    "df['Fnlwgt']=np.log(df['Fnlwgt'])"
   ]
  },
  {
   "cell_type": "code",
   "execution_count": null,
   "id": "8c0977cb",
   "metadata": {},
   "outputs": [],
   "source": [
    "#Checking the skewness of the data\n",
    "plt.figure(figsize=(20,25),facecolor=\"green\")\n",
    "plotnumber=1\n",
    "for column in df1:\n",
    "    if plotnumber<=18:\n",
    "        ax=plt.subplot(6,4,plotnumber)\n",
    "        sns.distplot(df1[column],color='b')\n",
    "        plt.xlabel(column,fontsize=20)\n",
    "    plotnumber+=1\n",
    "plt.show()"
   ]
  },
  {
   "cell_type": "markdown",
   "id": "34154919",
   "metadata": {},
   "source": [
    "# Feature Scaling using Standard Scalarisation\n",
    "for evaluation of the data"
   ]
  },
  {
   "cell_type": "code",
   "execution_count": null,
   "id": "1495ffa1",
   "metadata": {},
   "outputs": [],
   "source": [
    "#featuring x and y\n",
    "x=df1.drop(['Income'],axis=1)\n",
    "y=df1['Income']\n",
    "print(\"feature dimensions\",x.shape)\n",
    "print(\"label dimension\",y.shape)"
   ]
  },
  {
   "cell_type": "code",
   "execution_count": null,
   "id": "eb6fb9be",
   "metadata": {},
   "outputs": [],
   "source": [
    "from sklearn.preprocessing import StandardScaler\n",
    "scaler=StandardScaler()\n",
    "x=pd.DataFrame(scaler.fit_transform(x),columns=x.columns)\n",
    "x"
   ]
  },
  {
   "cell_type": "code",
   "execution_count": null,
   "id": "5c4058a8",
   "metadata": {},
   "outputs": [],
   "source": [
    "# checking variance inflation factor\n",
    "from statsmodels.stats.outliers_influence import variance_inflation_factor\n",
    "vif=pd.DataFrame()\n",
    "vif[\"VIF values\"]=[variance_inflation_factor(x.values,i) for i in range(len(x.columns))]\n",
    "vif[\"Features\"]=x.columns\n",
    "\n",
    "vif"
   ]
  },
  {
   "cell_type": "markdown",
   "id": "8f3d5b4e",
   "metadata": {},
   "source": [
    "# Modelling\n",
    "for finding the best random state"
   ]
  },
  {
   "cell_type": "code",
   "execution_count": null,
   "id": "fd13c3a9",
   "metadata": {},
   "outputs": [],
   "source": [
    "from sklearn.model_selection import train_test_split\n",
    "from sklearn.metrics import mean_absolute_error\n",
    "from sklearn.metrics import mean_squared_error\n",
    "from sklearn.metrics import r2_score\n",
    "from sklearn.ensemble import GradientBoostingRegressor\n",
    "from sklearn.linear_model import LinearRegression\n"
   ]
  },
  {
   "cell_type": "code",
   "execution_count": null,
   "id": "01187b3d",
   "metadata": {},
   "outputs": [],
   "source": [
    "# finding the best random state\n",
    "maxacc=0\n",
    "maxrs=0\n",
    "for i in range(1,200):\n",
    "    x_train,x_test,y_train,y_test=train_test_split(x,y,test_size=.30,random_state=i)\n",
    "    lr=LinearRegression()\n",
    "    lr.fit(x_train,y_train)\n",
    "    pred=lr.predict(x_test)\n",
    "    acc=r2_score(y_test,pred)   # to find difference between the predicted and actual value\n",
    "    if acc>maxacc: \n",
    "        maxacc=acc\n",
    "        maxrs=i\n",
    "print(\"Maximum score is\",maxacc,\"on Random state\",maxrs)"
   ]
  },
  {
   "cell_type": "code",
   "execution_count": null,
   "id": "df7bebed",
   "metadata": {},
   "outputs": [],
   "source": [
    "x_train,x_test,y_train,y_test=train_test_split(x,y,test_size=.25,random_state=51)"
   ]
  },
  {
   "cell_type": "code",
   "execution_count": null,
   "id": "03861aab",
   "metadata": {},
   "outputs": [],
   "source": [
    "from sklearn.linear_model import LinearRegression\n",
    "from sklearn.ensemble import RandomForestRegressor\n",
    "from sklearn.tree import DecisionTreeRegressor\n",
    "from sklearn.neighbors import KNeighborsRegressor as KNN\n",
    "from sklearn.linear_model import Lasso,Ridge"
   ]
  },
  {
   "cell_type": "code",
   "execution_count": null,
   "id": "1caf40b3",
   "metadata": {},
   "outputs": [],
   "source": [
    "LR=LinearRegression()\n",
    "LR.fit(x_train,y_train)\n",
    "pred_LR=LR.predict(x_test)\n",
    "pred_train=LR.predict(x_train)\n",
    "print('R2 score: ',r2_score(y_test,pred_LR))\n",
    "print('R2 score on training data: ',r2_score(y_train,pred_train)*100)\n",
    "print('Mean Absolute Error',mean_absolute_error(y_test,pred_LR))\n",
    "print('Mean Squared Error',mean_squared_error(y_test,pred_LR))\n",
    "print('Root mean squared Error',np.sqrt(mean_squared_error(y_test,pred_LR)))"
   ]
  },
  {
   "cell_type": "code",
   "execution_count": null,
   "id": "bb97c4d8",
   "metadata": {},
   "outputs": [],
   "source": [
    "RFR=RandomForestRegressor()\n",
    "RFR.fit(x_train,y_train)\n",
    "pred_RFR=RFR.predict(x_test)\n",
    "pred_train=RFR.predict(x_train)\n",
    "print('R2 score: ',r2_score(y_test,pred_RFR))\n",
    "print('R2 score on training data: ',r2_score(y_train,pred_train)*100)\n",
    "print('Mean Absolute Error',mean_absolute_error(y_test,pred_RFR))\n",
    "print('Mean Squared Error',mean_squared_error(y_test,pred_RFR))\n",
    "print('Root mean squared Error',np.sqrt(mean_squared_error(y_test,pred_RFR)))"
   ]
  },
  {
   "cell_type": "code",
   "execution_count": null,
   "id": "a364b361",
   "metadata": {},
   "outputs": [],
   "source": [
    "knn=KNN()\n",
    "knn.fit(x_train,y_train)\n",
    "pred_knn=knn.predict(x_test)\n",
    "pred_train=knn.predict(x_train)\n",
    "print('R2 score: ',r2_score(y_test,pred_knn))\n",
    "print('R2 score on training data: ',r2_score(y_train,pred_train)*100)\n",
    "print('Mean Absolute Error',mean_absolute_error(y_test,pred_knn))\n",
    "print('Mean Squared Error',mean_squared_error(y_test,pred_knn))\n",
    "print('Root mean squared Error',np.sqrt(mean_squared_error(y_test,pred_knn)))"
   ]
  },
  {
   "cell_type": "code",
   "execution_count": null,
   "id": "b55961a3",
   "metadata": {},
   "outputs": [],
   "source": [
    "from sklearn.ensemble import GradientBoostingRegressor\n",
    "\n",
    "GBR=GradientBoostingRegressor()\n",
    "GBR.fit(x_train,y_train)\n",
    "pred_GBR=GBR.predict(x_test)\n",
    "pred_train=GBR.predict(x_train)\n",
    "print('R2 score: ',r2_score(y_test,pred_GBR))\n",
    "print('R2 score on training data: ',r2_score(y_train,pred_train)*100)\n",
    "print('Mean Absolute Error',mean_absolute_error(y_test,pred_GBR))\n",
    "print('Mean Squared Error',mean_squared_error(y_test,pred_GBR))\n",
    "print('Root mean squared Error',np.sqrt(mean_squared_error(y_test,pred_GBR)))"
   ]
  },
  {
   "cell_type": "code",
   "execution_count": null,
   "id": "dba1dd45",
   "metadata": {},
   "outputs": [],
   "source": [
    "ls=Lasso()\n",
    "ls.fit(x_train,y_train)\n",
    "pred_ls=ls.predict(x_test)\n",
    "pred_train=ls.predict(x_train)\n",
    "print('R2 score: ',r2_score(y_test,pred_ls))\n",
    "print('R2 score on training data: ',r2_score(y_train,pred_train)*100)\n",
    "print('Mean Absolute Error',mean_absolute_error(y_test,pred_ls))\n",
    "print('Mean Squared Error',mean_squared_error(y_test,pred_ls))\n",
    "print('Root mean squared Error',np.sqrt(mean_squared_error(y_test,pred_ls)))"
   ]
  },
  {
   "cell_type": "code",
   "execution_count": null,
   "id": "54237ec2",
   "metadata": {},
   "outputs": [],
   "source": [
    "rd=Ridge()\n",
    "rd.fit(x_train,y_train)\n",
    "pred_rd=rd.predict(x_test)\n",
    "pred_train=rd.predict(x_train)\n",
    "print('R2 score: ',r2_score(y_test,pred_rd))\n",
    "print('R2 score on training data: ',r2_score(y_train,pred_train)*100)\n",
    "print('Mean Absolute Error',mean_absolute_error(y_test,pred_rd))\n",
    "print('Mean Squared Error',mean_squared_error(y_test,pred_rd))\n",
    "print('Root mean squared Error',np.sqrt(mean_squared_error(y_test,pred_rd)))"
   ]
  },
  {
   "cell_type": "code",
   "execution_count": null,
   "id": "568de0ce",
   "metadata": {},
   "outputs": [],
   "source": [
    "from sklearn.tree import DecisionTreeRegressor \n",
    "\n",
    "dtr=DecisionTreeRegressor()\n",
    "dtr.fit(x_train,y_train)\n",
    "pred_dtr=dtr.predict(x_test)\n",
    "pred_train=dtr.predict(x_train)\n",
    "print('R2 score: ',r2_score(y_test,pred_dtr))\n",
    "print('R2 score on training data: ',r2_score(y_train,pred_train)*100)\n",
    "print('Mean Absolute Error',mean_absolute_error(y_test,pred_dtr))\n",
    "print('Mean Squared Error',mean_squared_error(y_test,pred_dtr))\n",
    "print('Root mean squared Error',np.sqrt(mean_squared_error(y_test,pred_dtr)))"
   ]
  },
  {
   "cell_type": "code",
   "execution_count": null,
   "id": "50fb1fcc",
   "metadata": {},
   "outputs": [],
   "source": [
    "from sklearn.svm import SVR\n",
    "\n",
    "svr=SVR()\n",
    "svr.fit(x_train,y_train)\n",
    "pred_svr=dtr.predict(x_test)\n",
    "pred_train=svr.predict(x_train)\n",
    "print('R2 score: ',r2_score(y_test,pred_svr))\n",
    "print('R2 score on training data: ',r2_score(y_train,pred_train)*100)\n",
    "print('Mean Absolute Error',mean_absolute_error(y_test,pred_svr))\n",
    "print('Mean Squared Error',mean_squared_error(y_test,pred_svr))\n",
    "print('Root mean squared Error',np.sqrt(mean_squared_error(y_test,pred_dtr)))"
   ]
  },
  {
   "cell_type": "code",
   "execution_count": null,
   "id": "1bdd300e",
   "metadata": {},
   "outputs": [],
   "source": [
    "from sklearn.ensemble import ExtraTreesRegressor\n",
    "\n",
    "etr=ExtraTreesRegressor()\n",
    "etr.fit(x_train,y_train)\n",
    "pred_etr=etr.predict(x_test)\n",
    "pred_train=etr.predict(x_train)\n",
    "print('R2 score: ',r2_score(y_test,pred_etr))\n",
    "print('R2 score on training data: ',r2_score(y_train,pred_train)*100)\n",
    "print('Mean Absolute Error',mean_absolute_error(y_test,pred_etr))\n",
    "print('Mean Squared Error',mean_squared_error(y_test,pred_etr))\n",
    "print('Root mean squared Error',np.sqrt(mean_squared_error(y_test,pred_dtr)))"
   ]
  },
  {
   "cell_type": "code",
   "execution_count": null,
   "id": "98b0da92",
   "metadata": {},
   "outputs": [],
   "source": [
    "from sklearn.model_selection import GridSearchCV"
   ]
  },
  {
   "cell_type": "code",
   "execution_count": null,
   "id": "b44fd3c5",
   "metadata": {},
   "outputs": [],
   "source": [
    "from sklearn.ensemble import ExtraTreesRegressor\n",
    "\n",
    "param = {\n",
    "    'n_estimators': [50, 100, 200],\n",
    "    'max_depth': [None, 10, 20, 30],\n",
    "    'min_samples_split': [2, 5, 10],\n",
    "    'min_samples_leaf': [1, 2, 4],\n",
    "    'random_state': [1, 4, 10, 20]\n",
    "}\n",
    "\n",
    "gscv = GridSearchCV(ExtraTreesRegressor(), param, cv=5)\n",
    "gscv.fit(x_train, y_train)"
   ]
  },
  {
   "cell_type": "code",
   "execution_count": null,
   "id": "9e3c301d",
   "metadata": {},
   "outputs": [],
   "source": [
    "gscv.best_params_"
   ]
  },
  {
   "cell_type": "code",
   "execution_count": null,
   "id": "51ce057b",
   "metadata": {},
   "outputs": [],
   "source": [
    "Model =ExtraTreesRegressor(max_depth=10,\n",
    "                               min_samples_split=2,  \n",
    "                               min_samples_leaf=1,\n",
    "                               max_features='auto', \n",
    "                               random_state=1) "
   ]
  },
  {
   "cell_type": "code",
   "execution_count": null,
   "id": "2065110f",
   "metadata": {},
   "outputs": [],
   "source": [
    "Model.fit(x_train,y_train)\n",
    "pred=Model.predict(x_test)\n",
    "print('r2_score: ',r2_score(y_test,pred))\n",
    "print('Mean Absolute error:',mean_absolute_error(y_test,pred))\n",
    "print('Mean Squared error:',mean_squared_error(y_test,pred))\n",
    "print('Root Mean Squared Error: ',np.sqrt(mean_squared_error(y_test,pred)))      "
   ]
  },
  {
   "cell_type": "code",
   "execution_count": null,
   "id": "a4f6d5ab",
   "metadata": {},
   "outputs": [],
   "source": []
  },
  {
   "cell_type": "code",
   "execution_count": null,
   "id": "2ceefa8a",
   "metadata": {},
   "outputs": [],
   "source": []
  }
 ],
 "metadata": {
  "kernelspec": {
   "display_name": "Python 3 (ipykernel)",
   "language": "python",
   "name": "python3"
  },
  "language_info": {
   "codemirror_mode": {
    "name": "ipython",
    "version": 3
   },
   "file_extension": ".py",
   "mimetype": "text/x-python",
   "name": "python",
   "nbconvert_exporter": "python",
   "pygments_lexer": "ipython3",
   "version": "3.10.9"
  }
 },
 "nbformat": 4,
 "nbformat_minor": 5
}
