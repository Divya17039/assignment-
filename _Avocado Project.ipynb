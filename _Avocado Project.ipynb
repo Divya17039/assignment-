{
 "cells": [
  {
   "cell_type": "markdown",
   "id": "9a31dfc6",
   "metadata": {},
   "source": [
    "# Avocado Project"
   ]
  },
  {
   "cell_type": "code",
   "execution_count": null,
   "id": "ad31cce4",
   "metadata": {},
   "outputs": [],
   "source": [
    "import pandas as pd\n",
    "import numpy as np\n",
    "import seaborn as sns\n",
    "import matplotlib.pyplot as plt\n",
    "import warnings\n",
    "warnings.filterwarnings(\"ignore\")"
   ]
  },
  {
   "cell_type": "code",
   "execution_count": null,
   "id": "2de1e4fa",
   "metadata": {},
   "outputs": [],
   "source": [
    "df=pd.read_csv(\"https://raw.githubusercontent.com/abhijitshow07/Avocado-Price-Prediction-in-USA/master/avocado.csv\")\n",
    "df"
   ]
  },
  {
   "cell_type": "code",
   "execution_count": null,
   "id": "5b6108e4",
   "metadata": {},
   "outputs": [],
   "source": [
    "df.drop(['Unnamed: 0'], axis=1, inplace=True)\n",
    "df"
   ]
  },
  {
   "cell_type": "code",
   "execution_count": null,
   "id": "d1e5c0d1",
   "metadata": {},
   "outputs": [],
   "source": [
    "import pandas as pd\n",
    "\n",
    "df.set_index(\"Date\",inplace=True)\n",
    "df"
   ]
  },
  {
   "cell_type": "code",
   "execution_count": null,
   "id": "51898dd6",
   "metadata": {},
   "outputs": [],
   "source": [
    "df.dtypes"
   ]
  },
  {
   "cell_type": "code",
   "execution_count": null,
   "id": "52cc4700",
   "metadata": {},
   "outputs": [],
   "source": [
    "df.isnull().sum()"
   ]
  },
  {
   "cell_type": "code",
   "execution_count": null,
   "id": "6a6b149f",
   "metadata": {},
   "outputs": [],
   "source": [
    "df.info()"
   ]
  },
  {
   "cell_type": "code",
   "execution_count": null,
   "id": "88a4f2aa",
   "metadata": {},
   "outputs": [],
   "source": [
    "import seaborn as sns\n",
    "\n",
    "byRegion=df.groupby('region').mean()\n",
    "byRegion.sort_values(by=['AveragePrice'], ascending=False, inplace=True)\n",
    "plt.figure(figsize=(17,8),dpi=100)\n",
    "sns.barplot(x = byRegion.index,y=byRegion[\"AveragePrice\"],data = byRegion,palette='rocket')\n",
    "plt.xticks(rotation=90)\n",
    "plt.xlabel('Region')\n",
    "plt.ylabel('Average Price')\n",
    "plt.title('Average Price According to Region')"
   ]
  },
  {
   "cell_type": "code",
   "execution_count": null,
   "id": "7474a1b6",
   "metadata": {},
   "outputs": [],
   "source": [
    "plt.figure(figsize=(15,8))\n",
    "sns.lineplot(data=df.iloc[:,:-1])\n",
    "plt.ylabel(\"AveragePrice\")\n",
    "plt.title(\"the general trend of all values\")\n",
    "plt.show()"
   ]
  },
  {
   "cell_type": "code",
   "execution_count": null,
   "id": "b505e5f5",
   "metadata": {},
   "outputs": [],
   "source": [
    "import matplotlib.pyplot as plt\n",
    "\n",
    "byDate=df.groupby('Date').mean()\n",
    "plt.figure(figsize=(17,8),dpi=100)\n",
    "byDate['AveragePrice'].plot()\n",
    "plt.title('Average Price')"
   ]
  },
  {
   "cell_type": "code",
   "execution_count": null,
   "id": "1de72877",
   "metadata": {},
   "outputs": [],
   "source": [
    "plt.figure(figsize=(15,10),dpi=100)\n",
    "df[\"AveragePrice\"].plot(kind=\"hist\",color=\"blue\",bins=30,grid=True,alpha=0.65,label=\"Average Price\")\n",
    "plt.legend()\n",
    "plt.xlabel(\"Average Price\")\n",
    "plt.title(\"Average Price Distribution\")\n",
    "plt.show()"
   ]
  },
  {
   "cell_type": "code",
   "execution_count": null,
   "id": "ad55b5ee",
   "metadata": {},
   "outputs": [],
   "source": [
    "import numpy as np\n",
    "\n",
    "corr_df = df.corr(method='pearson')\n",
    "plt.figure(figsize=(12,6),dpi=100)\n",
    "sns.heatmap(corr_df,cmap='coolwarm',annot=True)"
   ]
  },
  {
   "cell_type": "code",
   "execution_count": null,
   "id": "1770b16e",
   "metadata": {},
   "outputs": [],
   "source": [
    "plt.figure(figsize=(15,7),dpi=100)\n",
    "sns.boxplot(data = df[[\n",
    " 'AveragePrice',\n",
    " 'Total Volume',\n",
    " '4046',\n",
    " '4225',\n",
    " '4770',\n",
    " 'Total Bags',\n",
    " 'Small Bags',\n",
    " 'Large Bags',\n",
    " 'XLarge Bags']])"
   ]
  },
  {
   "cell_type": "code",
   "execution_count": null,
   "id": "7b76d487",
   "metadata": {},
   "outputs": [],
   "source": [
    "pip install seaborn --upgrade"
   ]
  },
  {
   "cell_type": "code",
   "execution_count": null,
   "id": "8cd1aceb",
   "metadata": {},
   "outputs": [],
   "source": [
    "import seaborn as sns\n",
    "import matplotlib.pyplot as plt\n",
    "\n",
    "# Assume you have already loaded your DataFrame 'df' and it contains the required columns\n",
    "\n",
    "# Create a catplot using Seaborn\n",
    "sns.catplot(\n",
    "    x='AveragePrice',          # Numerical variable to be plotted on the x-axis\n",
    "    y='region',                # Categorical variable to be plotted on the y-axis\n",
    "    data=df,                   # DataFrame containing the data\n",
    "    hue='year',                # Categorical variable for color differentiation\n",
    "    aspect=0.8,                # Aspect ratio of each facet, controls the width of the plot\n",
    "    height=15,                 # Height of each facet in inches\n",
    "    palette='magma',           # Color palette to use for different years\n",
    "    kind='strip',              # Type of plot, in this case, a strip plot\n",
    "    dodge=True                 # Separate the points for different hue levels\n",
    ")\n",
    "\n",
    "# Additional customization\n",
    "plt.title('Average Price Across Regions by Year')  # Set the title of the plot\n",
    "plt.xlabel('Average Price')                        # Label for the x-axis\n",
    "plt.ylabel('Region')                               # Label for the y-axis\n",
    "\n",
    "# Display the plot\n",
    "plt.show()\n"
   ]
  },
  {
   "cell_type": "code",
   "execution_count": null,
   "id": "fbcbafbf",
   "metadata": {},
   "outputs": [],
   "source": []
  },
  {
   "cell_type": "markdown",
   "id": "dec619b4",
   "metadata": {},
   "source": [
    "# Converting the data"
   ]
  },
  {
   "cell_type": "code",
   "execution_count": null,
   "id": "fb29f605",
   "metadata": {},
   "outputs": [],
   "source": [
    "df['type'].value_counts()"
   ]
  },
  {
   "cell_type": "code",
   "execution_count": null,
   "id": "af583833",
   "metadata": {},
   "outputs": [],
   "source": [
    "from sklearn.preprocessing import LabelEncoder\n",
    "encoding=['type','region']\n",
    "label_encoder={}\n",
    "for column in encoding:\n",
    "    label_encoder[column]=LabelEncoder()\n",
    "    df[column]=label_encoder[column].fit_transform(df[column])"
   ]
  },
  {
   "cell_type": "code",
   "execution_count": null,
   "id": "90cf9139",
   "metadata": {},
   "outputs": [],
   "source": [
    "df.info()"
   ]
  },
  {
   "cell_type": "markdown",
   "id": "f22fec7a",
   "metadata": {},
   "source": [
    "# Z Score"
   ]
  },
  {
   "cell_type": "code",
   "execution_count": null,
   "id": "a9412d13",
   "metadata": {},
   "outputs": [],
   "source": [
    "from scipy.stats import zscore\n",
    "out_features=df[['AveragePrice','Total Volume','4046','4225','4770','Total Bags','Small Bags','Large Bags','XLarge Bags','type','year','region']]\n",
    "z=np.abs(zscore(out_features))    #\n",
    "z"
   ]
  },
  {
   "cell_type": "code",
   "execution_count": null,
   "id": "a0aca85e",
   "metadata": {},
   "outputs": [],
   "source": [
    "np.where(z>3)"
   ]
  },
  {
   "cell_type": "code",
   "execution_count": null,
   "id": "e374f7cb",
   "metadata": {},
   "outputs": [],
   "source": [
    "df1=df[(z<3).all(axis=1)]\n",
    "df1.shape"
   ]
  },
  {
   "cell_type": "code",
   "execution_count": null,
   "id": "9d6258ba",
   "metadata": {},
   "outputs": [],
   "source": [
    "print(\"old dataframe: \",df.shape[0])\n",
    "print(\"new dataframe: \",df1.shape[0])"
   ]
  },
  {
   "cell_type": "code",
   "execution_count": null,
   "id": "79a1ebfb",
   "metadata": {},
   "outputs": [],
   "source": [
    "print(\"data loss percentage:\",((df.shape[0]-df1.shape[0])/df.shape[0])*100)"
   ]
  },
  {
   "cell_type": "code",
   "execution_count": null,
   "id": "928b1901",
   "metadata": {},
   "outputs": [],
   "source": [
    "df1"
   ]
  },
  {
   "cell_type": "code",
   "execution_count": null,
   "id": "11423094",
   "metadata": {},
   "outputs": [],
   "source": [
    "df1.corr()"
   ]
  },
  {
   "cell_type": "code",
   "execution_count": null,
   "id": "3c6e63ce",
   "metadata": {},
   "outputs": [],
   "source": [
    "plt.figure(figsize=(26,14))\n",
    "sns.heatmap(df1.corr(),annot=True,fmt='0.2f')"
   ]
  },
  {
   "cell_type": "code",
   "execution_count": null,
   "id": "49169b16",
   "metadata": {},
   "outputs": [],
   "source": [
    "df1.corr().AveragePrice.sort_values()"
   ]
  },
  {
   "cell_type": "markdown",
   "id": "4483c4c6",
   "metadata": {},
   "source": [
    "# Checking the skewness of the data"
   ]
  },
  {
   "cell_type": "code",
   "execution_count": null,
   "id": "47e7c020",
   "metadata": {},
   "outputs": [],
   "source": [
    "plt.figure(figsize=(20,25),facecolor=\"green\")\n",
    "plotnumber=1\n",
    "for column in df1:\n",
    "    if plotnumber<=18:\n",
    "        ax=plt.subplot(6,4,plotnumber)\n",
    "        sns.distplot(df1[column],color='b')\n",
    "        plt.xlabel(column,fontsize=20)\n",
    "    plotnumber+=1\n",
    "plt.show()"
   ]
  },
  {
   "cell_type": "markdown",
   "id": "3fc2a97c",
   "metadata": {},
   "source": [
    "# Featuring the x and y"
   ]
  },
  {
   "cell_type": "code",
   "execution_count": null,
   "id": "a8ec9a02",
   "metadata": {},
   "outputs": [],
   "source": [
    "x=df1.drop(['AveragePrice'],axis=1)\n",
    "y=df1['AveragePrice']\n",
    "print(\"feature dimensions\",x.shape)\n",
    "print(\"label dimension\",y.shape)"
   ]
  },
  {
   "cell_type": "markdown",
   "id": "fc9e38aa",
   "metadata": {},
   "source": [
    "# Feature Scaling using Standard Scalarisation\n",
    "for evaluation of the data"
   ]
  },
  {
   "cell_type": "code",
   "execution_count": null,
   "id": "50bf0695",
   "metadata": {},
   "outputs": [],
   "source": [
    "from sklearn.preprocessing import StandardScaler\n",
    "scaler=StandardScaler()\n",
    "x=pd.DataFrame(scaler.fit_transform(x),columns=x.columns)\n",
    "x"
   ]
  },
  {
   "cell_type": "markdown",
   "id": "9d00c025",
   "metadata": {},
   "source": [
    "# Checking Variance Inflation Factor"
   ]
  },
  {
   "cell_type": "code",
   "execution_count": null,
   "id": "78fd1657",
   "metadata": {},
   "outputs": [],
   "source": [
    "from statsmodels.stats.outliers_influence import variance_inflation_factor\n",
    "vif=pd.DataFrame()\n",
    "vif[\"VIF values\"]=[variance_inflation_factor(x.values,i) for i in range(len(x.columns))]\n",
    "vif[\"Features\"]=x.columns\n",
    "\n",
    "vif"
   ]
  },
  {
   "cell_type": "markdown",
   "id": "112d1747",
   "metadata": {},
   "source": [
    "# Modelling\n",
    "for finding the best random state"
   ]
  },
  {
   "cell_type": "code",
   "execution_count": null,
   "id": "3c4f7b25",
   "metadata": {},
   "outputs": [],
   "source": [
    "from sklearn.model_selection import train_test_split\n",
    "from sklearn.metrics import mean_absolute_error\n",
    "from sklearn.metrics import mean_squared_error\n",
    "from sklearn.metrics import r2_score\n",
    "from sklearn.ensemble import GradientBoostingRegressor\n",
    "from sklearn.linear_model import LinearRegression\n"
   ]
  },
  {
   "cell_type": "code",
   "execution_count": null,
   "id": "226c7b47",
   "metadata": {},
   "outputs": [],
   "source": [
    "# finding the best random state\n",
    "maxacc=0\n",
    "maxrs=0\n",
    "for i in range(1,200):\n",
    "    x_train,x_test,y_train,y_test=train_test_split(x,y,test_size=.30,random_state=i)\n",
    "    lr=LinearRegression()\n",
    "    lr.fit(x_train,y_train)\n",
    "    pred=lr.predict(x_test)\n",
    "    acc=r2_score(y_test,pred)   # to find difference between the predicted and actual value\n",
    "    if acc>maxacc: \n",
    "        maxacc=acc\n",
    "        maxrs=i\n",
    "print(\"Maximum score is\",maxacc,\"on Random state\",maxrs)"
   ]
  },
  {
   "cell_type": "code",
   "execution_count": null,
   "id": "af42601a",
   "metadata": {},
   "outputs": [],
   "source": [
    "x_train,x_test,y_train,y_test=train_test_split(x,y,test_size=.30,random_state=maxrs)"
   ]
  },
  {
   "cell_type": "code",
   "execution_count": null,
   "id": "8047ff23",
   "metadata": {},
   "outputs": [],
   "source": [
    "from sklearn.linear_model import LinearRegression\n",
    "from sklearn.ensemble import RandomForestRegressor\n",
    "from sklearn.tree import DecisionTreeRegressor\n",
    "from sklearn.neighbors import KNeighborsRegressor as KNN\n",
    "from sklearn.linear_model import Lasso,Ridge"
   ]
  },
  {
   "cell_type": "code",
   "execution_count": null,
   "id": "ff750389",
   "metadata": {},
   "outputs": [],
   "source": [
    "LR=LinearRegression()\n",
    "LR.fit(x_train,y_train)\n",
    "pred_LR=LR.predict(x_test)\n",
    "pred_train=LR.predict(x_train)\n",
    "print('R2 score: ',r2_score(y_test,pred_LR))\n",
    "print('R2 score on training data: ',r2_score(y_train,pred_train)*100)\n",
    "print('Mean Absolute Error',mean_absolute_error(y_test,pred_LR))\n",
    "print('Mean Squared Error',mean_squared_error(y_test,pred_LR))\n",
    "print('Root mean squared Error',np.sqrt(mean_squared_error(y_test,pred_LR)))"
   ]
  },
  {
   "cell_type": "code",
   "execution_count": null,
   "id": "4921ebf7",
   "metadata": {},
   "outputs": [],
   "source": [
    "RFR=RandomForestRegressor()\n",
    "RFR.fit(x_train,y_train)\n",
    "pred_RFR=RFR.predict(x_test)\n",
    "pred_train=RFR.predict(x_train)\n",
    "print('R2 score: ',r2_score(y_test,pred_RFR))\n",
    "print('R2 score on training data: ',r2_score(y_train,pred_train)*100)\n",
    "print('Mean Absolute Error',mean_absolute_error(y_test,pred_RFR))\n",
    "print('Mean Squared Error',mean_squared_error(y_test,pred_RFR))\n",
    "print('Root mean squared Error',np.sqrt(mean_squared_error(y_test,pred_RFR)))"
   ]
  },
  {
   "cell_type": "code",
   "execution_count": null,
   "id": "e5e0cdbc",
   "metadata": {},
   "outputs": [],
   "source": [
    "knn=KNN()\n",
    "knn.fit(x_train,y_train)\n",
    "pred_knn=knn.predict(x_test)\n",
    "pred_train=knn.predict(x_train)\n",
    "print('R2 score: ',r2_score(y_test,pred_knn))\n",
    "print('R2 score on training data: ',r2_score(y_train,pred_train)*100)\n",
    "print('Mean Absolute Error',mean_absolute_error(y_test,pred_knn))\n",
    "print('Mean Squared Error',mean_squared_error(y_test,pred_knn))\n",
    "print('Root mean squared Error',np.sqrt(mean_squared_error(y_test,pred_knn)))"
   ]
  },
  {
   "cell_type": "code",
   "execution_count": null,
   "id": "a196ff51",
   "metadata": {},
   "outputs": [],
   "source": [
    "from sklearn.ensemble import GradientBoostingRegressor\n",
    "\n",
    "GBR=GradientBoostingRegressor()\n",
    "GBR.fit(x_train,y_train)\n",
    "pred_GBR=GBR.predict(x_test)\n",
    "pred_train=GBR.predict(x_train)\n",
    "print('R2 score: ',r2_score(y_test,pred_GBR))\n",
    "print('R2 score on training data: ',r2_score(y_train,pred_train)*100)\n",
    "print('Mean Absolute Error',mean_absolute_error(y_test,pred_GBR))\n",
    "print('Mean Squared Error',mean_squared_error(y_test,pred_GBR))\n",
    "print('Root mean squared Error',np.sqrt(mean_squared_error(y_test,pred_GBR)))"
   ]
  },
  {
   "cell_type": "code",
   "execution_count": null,
   "id": "4f35c107",
   "metadata": {},
   "outputs": [],
   "source": [
    "ls=Lasso()\n",
    "ls.fit(x_train,y_train)\n",
    "pred_ls=ls.predict(x_test)\n",
    "pred_train=ls.predict(x_train)\n",
    "print('R2 score: ',r2_score(y_test,pred_ls))\n",
    "print('R2 score on training data: ',r2_score(y_train,pred_train)*100)\n",
    "print('Mean Absolute Error',mean_absolute_error(y_test,pred_ls))\n",
    "print('Mean Squared Error',mean_squared_error(y_test,pred_ls))\n",
    "print('Root mean squared Error',np.sqrt(mean_squared_error(y_test,pred_ls)))"
   ]
  },
  {
   "cell_type": "code",
   "execution_count": null,
   "id": "b8965588",
   "metadata": {},
   "outputs": [],
   "source": [
    "from sklearn.tree import DecisionTreeRegressor \n",
    "\n",
    "dtr=DecisionTreeRegressor()\n",
    "dtr.fit(x_train,y_train)\n",
    "pred_dtr=dtr.predict(x_test)\n",
    "pred_train=dtr.predict(x_train)\n",
    "print('R2 score: ',r2_score(y_test,pred_dtr))\n",
    "print('R2 score on training data: ',r2_score(y_train,pred_train)*100)\n",
    "print('Mean Absolute Error',mean_absolute_error(y_test,pred_dtr))\n",
    "print('Mean Squared Error',mean_squared_error(y_test,pred_dtr))\n",
    "print('Root mean squared Error',np.sqrt(mean_squared_error(y_test,pred_dtr)))"
   ]
  },
  {
   "cell_type": "code",
   "execution_count": null,
   "id": "da83f2e3",
   "metadata": {},
   "outputs": [],
   "source": [
    "from sklearn.svm import SVR\n",
    "\n",
    "svr=SVR()\n",
    "svr.fit(x_train,y_train)\n",
    "pred_svr=dtr.predict(x_test)\n",
    "pred_train=svr.predict(x_train)\n",
    "print('R2 score: ',r2_score(y_test,pred_svr))\n",
    "print('R2 score on training data: ',r2_score(y_train,pred_train)*100)\n",
    "print('Mean Absolute Error',mean_absolute_error(y_test,pred_svr))\n",
    "print('Mean Squared Error',mean_squared_error(y_test,pred_svr))\n",
    "print('Root mean squared Error',np.sqrt(mean_squared_error(y_test,pred_dtr)))"
   ]
  },
  {
   "cell_type": "code",
   "execution_count": null,
   "id": "49e149f4",
   "metadata": {},
   "outputs": [],
   "source": [
    "from sklearn.ensemble import ExtraTreesRegressor\n",
    "\n",
    "etr=ExtraTreesRegressor()\n",
    "etr.fit(x_train,y_train)\n",
    "pred_etr=etr.predict(x_test)\n",
    "pred_train=etr.predict(x_train)\n",
    "print('R2 score: ',r2_score(y_test,pred_etr))\n",
    "print('R2 score on training data: ',r2_score(y_train,pred_train)*100)\n",
    "print('Mean Absolute Error',mean_absolute_error(y_test,pred_etr))\n",
    "print('Mean Squared Error',mean_squared_error(y_test,pred_etr))\n",
    "print('Root mean squared Error',np.sqrt(mean_squared_error(y_test,pred_dtr)))"
   ]
  },
  {
   "cell_type": "markdown",
   "id": "6a203d44",
   "metadata": {},
   "source": [
    "# Cross Validation score\n"
   ]
  },
  {
   "cell_type": "code",
   "execution_count": null,
   "id": "5a2cd945",
   "metadata": {},
   "outputs": [],
   "source": [
    "from sklearn.model_selection import cross_val_score\n",
    "score =cross_val_score(LR,x,y,cv=5,scoring='r2')\n",
    "print(score)\n",
    "print(score.mean())\n",
    "print(\"Difference between R2 score and cross validation score: \",(r2_score(y_test,pred_LR)-score.mean())*100)"
   ]
  },
  {
   "cell_type": "code",
   "execution_count": null,
   "id": "b1077f62",
   "metadata": {},
   "outputs": [],
   "source": [
    "score1=cross_val_score(RFR,x,y,cv=5,scoring='r2')\n",
    "print(score1)\n",
    "print(score1.mean())\n",
    "print(\"Difference between R2 score and cross validation score: \",(r2_score(y_test,pred_RFR)-score1.mean())*100)"
   ]
  },
  {
   "cell_type": "code",
   "execution_count": null,
   "id": "d9a64831",
   "metadata": {},
   "outputs": [],
   "source": [
    " score2 =cross_val_score(knn,x,y,cv=5,scoring='r2')\n",
    "print(score2)\n",
    "print(score2.mean())\n",
    "print(\"Difference between R2 score and cross validation score: \",(r2_score(y_test,pred_knn)-score2.mean())*100)"
   ]
  },
  {
   "cell_type": "code",
   "execution_count": null,
   "id": "ab7597c4",
   "metadata": {},
   "outputs": [],
   "source": [
    "score3 =cross_val_score(GBR,x,y,cv=5,scoring='r2')\n",
    "print(score3)\n",
    "print(score3.mean())\n",
    "print(\"Difference between R2 score and cross validation score: \",(r2_score(y_test,pred_GBR)-score.mean())*100)"
   ]
  },
  {
   "cell_type": "code",
   "execution_count": null,
   "id": "d44cec21",
   "metadata": {},
   "outputs": [],
   "source": [
    "score4 =cross_val_score(ls,x,y,cv=5,scoring='r2')\n",
    "print(score4)\n",
    "print(score4.mean())\n",
    "print(\"Difference between R2 score and cross validation score: \",(r2_score(y_test,pred_ls)-score4.mean())*100)"
   ]
  },
  {
   "cell_type": "code",
   "execution_count": null,
   "id": "b71e9866",
   "metadata": {},
   "outputs": [],
   "source": [
    "score6 =cross_val_score(dtr,x,y,cv=5,scoring='r2')\n",
    "print(score6)\n",
    "print(score6.mean())\n",
    "print(\"Difference between R2 score and cross validation score: \",(r2_score(y_test,pred_dtr)-score6.mean())*100)"
   ]
  },
  {
   "cell_type": "code",
   "execution_count": null,
   "id": "ad581b71",
   "metadata": {},
   "outputs": [],
   "source": [
    "score7 =cross_val_score(svr,x,y,cv=5,scoring='r2')\n",
    "print(score7)\n",
    "print(score7.mean())\n",
    "print(\"Difference between R2 score and cross validation score: \",(r2_score(y_test,pred_svr)-score7.mean())*100)"
   ]
  },
  {
   "cell_type": "code",
   "execution_count": null,
   "id": "e99d677d",
   "metadata": {},
   "outputs": [],
   "source": [
    "score8 =cross_val_score(etr,x,y,cv=5,scoring='r2')\n",
    "print(score8)\n",
    "print(score8.mean())\n",
    "print(\"Difference between R2 score and cross validation score: \",(r2_score(y_test,pred_etr)-score8.mean())*100)"
   ]
  },
  {
   "cell_type": "markdown",
   "id": "5c65a3fc",
   "metadata": {},
   "source": [
    "# hence we are considering the ExtraTreesRegressor due to its high accuracy in the result"
   ]
  },
  {
   "cell_type": "code",
   "execution_count": null,
   "id": "29f290ab",
   "metadata": {},
   "outputs": [],
   "source": [
    "from sklearn.model_selection import GridSearchCV"
   ]
  },
  {
   "cell_type": "code",
   "execution_count": null,
   "id": "b59e4672",
   "metadata": {},
   "outputs": [],
   "source": [
    "# Hyper Parameter Tunning\n",
    "from sklearn.ensemble import ExtraTreesRegressor\n",
    "from sklearn.model_selection import GridSearchCV\n",
    "\n",
    "param = {\n",
    "    'n_estimators': [50, 100, 200],\n",
    "    'max_depth': [None, 10, 20, 30],\n",
    "    'min_samples_split': [2, 5, 10],\n",
    "    'min_samples_leaf': [1, 2, 4],\n",
    "    'random_state': [1, 4, 10, 20]\n",
    "}\n",
    "\n",
    "et_regressor = ExtraTreesRegressor()\n",
    "\n",
    "gscv = GridSearchCV(et_regressor, param, cv=5)\n",
    "gscv.fit(x_train, y_train)\n",
    "\n",
    "print(\"Best parameters:\", gscv.best_params_)\n",
    "print(\"Best score:\", gscv.best_score_)"
   ]
  },
  {
   "cell_type": "code",
   "execution_count": null,
   "id": "123aa7df",
   "metadata": {},
   "outputs": [],
   "source": [
    "gscv.best_params_"
   ]
  },
  {
   "cell_type": "code",
   "execution_count": null,
   "id": "0996f86b",
   "metadata": {},
   "outputs": [],
   "source": [
    "Model.fit(x_train,y_train)\n",
    "pred=Model.predict(x_test)\n",
    "print('r2_score: ',r2_score(y_test,pred))\n",
    "print('Mean Absolute error:',mean_absolute_error(y_test,pred))\n",
    "print('Mean Squared error:',mean_squared_error(y_test,pred))\n",
    "print('Root Mean Squared Error: ',np.sqrt(mean_squared_error(y_test,pred)))      "
   ]
  },
  {
   "cell_type": "code",
   "execution_count": null,
   "id": "650580a0",
   "metadata": {},
   "outputs": [],
   "source": [
    "import joblib\n",
    "#joblib.dump(Model,\"avocado.pkl\")\n",
    "\n",
    "import pickle\n",
    "filename='avocado.pkl'\n",
    "pickle.dump(Model,open(filename,'wb'))\n"
   ]
  },
  {
   "cell_type": "code",
   "execution_count": null,
   "id": "682991c8",
   "metadata": {},
   "outputs": [],
   "source": [
    "import pickle \n",
    "loaded_model=pickle.load(open('avocado.pkl','rb'))\n",
    "result=loaded_model.score(x_test,y_test)\n",
    "print(result*100)"
   ]
  },
  {
   "cell_type": "code",
   "execution_count": null,
   "id": "901a035e",
   "metadata": {},
   "outputs": [],
   "source": [
    "from sklearn.model_selection import GridSearchCV\n",
    "\n",
    "param={'alpha':[1.0,0.05,0.4,2],'fit_intercept':[True,False],'solver':['auto','svd','cholesky','lsqr','sag','saga','lbfgs'],'positive':[False,True],'random_state':[1,4,10,20]}\n",
    "gscv=GridSearchCV(Ridge(),param,cv=5)\n",
    "gscv.fit(x_train,y_train)"
   ]
  },
  {
   "cell_type": "code",
   "execution_count": null,
   "id": "575b63bc",
   "metadata": {},
   "outputs": [],
   "source": []
  },
  {
   "cell_type": "code",
   "execution_count": null,
   "id": "103f6c4c",
   "metadata": {},
   "outputs": [],
   "source": []
  },
  {
   "cell_type": "code",
   "execution_count": null,
   "id": "594a52b7",
   "metadata": {},
   "outputs": [],
   "source": []
  },
  {
   "cell_type": "code",
   "execution_count": null,
   "id": "2a5bcb5b",
   "metadata": {},
   "outputs": [],
   "source": []
  },
  {
   "cell_type": "code",
   "execution_count": null,
   "id": "7ad027cf",
   "metadata": {},
   "outputs": [],
   "source": []
  },
  {
   "cell_type": "code",
   "execution_count": null,
   "id": "cc179c53",
   "metadata": {},
   "outputs": [],
   "source": []
  },
  {
   "cell_type": "code",
   "execution_count": null,
   "id": "7cf4f377",
   "metadata": {},
   "outputs": [],
   "source": []
  },
  {
   "cell_type": "code",
   "execution_count": null,
   "id": "7704b13c",
   "metadata": {},
   "outputs": [],
   "source": []
  },
  {
   "cell_type": "code",
   "execution_count": null,
   "id": "8eea903e",
   "metadata": {},
   "outputs": [],
   "source": []
  },
  {
   "cell_type": "code",
   "execution_count": null,
   "id": "791777b4",
   "metadata": {},
   "outputs": [],
   "source": []
  },
  {
   "cell_type": "code",
   "execution_count": null,
   "id": "1578b37d",
   "metadata": {},
   "outputs": [],
   "source": []
  },
  {
   "cell_type": "code",
   "execution_count": null,
   "id": "1d5671b8",
   "metadata": {},
   "outputs": [],
   "source": []
  },
  {
   "cell_type": "code",
   "execution_count": null,
   "id": "88a6ce27",
   "metadata": {},
   "outputs": [],
   "source": []
  },
  {
   "cell_type": "code",
   "execution_count": null,
   "id": "a8b5cae3",
   "metadata": {},
   "outputs": [],
   "source": []
  },
  {
   "cell_type": "code",
   "execution_count": null,
   "id": "df7aa3d4",
   "metadata": {},
   "outputs": [],
   "source": []
  },
  {
   "cell_type": "code",
   "execution_count": null,
   "id": "3e841e7f",
   "metadata": {},
   "outputs": [],
   "source": []
  }
 ],
 "metadata": {
  "kernelspec": {
   "display_name": "Python 3 (ipykernel)",
   "language": "python",
   "name": "python3"
  },
  "language_info": {
   "codemirror_mode": {
    "name": "ipython",
    "version": 3
   },
   "file_extension": ".py",
   "mimetype": "text/x-python",
   "name": "python",
   "nbconvert_exporter": "python",
   "pygments_lexer": "ipython3",
   "version": "3.10.9"
  }
 },
 "nbformat": 4,
 "nbformat_minor": 5
}
