{
 "cells": [
  {
   "cell_type": "code",
   "execution_count": 36,
   "id": "27dd5a19",
   "metadata": {},
   "outputs": [],
   "source": [
    "import regex as re"
   ]
  },
  {
   "cell_type": "markdown",
   "id": "6563e7f8",
   "metadata": {},
   "source": [
    "# Question 1\n",
    "Write a RegEx pattern in python program to check that a string contains only a certain set of characters (in this case a-z, A-Z and 0-9)"
   ]
  },
  {
   "cell_type": "code",
   "execution_count": 3,
   "id": "d2ad9d6f",
   "metadata": {},
   "outputs": [
    {
     "name": "stdout",
     "output_type": "stream",
     "text": [
      "String contains donot contains characters given in the string.\n"
     ]
    }
   ],
   "source": [
    "import re\n",
    "def valid_items(input_string):\n",
    "    pattern = r'^[a-zA-Z0-9]+$'\n",
    "    # ^ shows it starts with\n",
    "    match = re.match(pattern, text)\n",
    "    return match is not None\n",
    "\n",
    "# Test the function\n",
    "text = \"My name is Divya solankiand my email address is divya.solanki3@gmail.com\"\n",
    "if valid_items(text):\n",
    "    print(\"String contains only characters given in the pattern.\")\n",
    "else:\n",
    "    print(\"String contains donot contains characters given in the string.\")\n"
   ]
  },
  {
   "cell_type": "code",
   "execution_count": 8,
   "id": "36d0892e",
   "metadata": {},
   "outputs": [
    {
     "name": "stdout",
     "output_type": "stream",
     "text": [
      "String contains only characters given in the pattern.\n"
     ]
    }
   ],
   "source": [
    "import re\n",
    "def valid_items(input_string):\n",
    "    pattern = r'^[a-zA-Z0-9]+$'\n",
    "    # ^ shows it starts with\n",
    "    match = re.match(pattern, text)\n",
    "    return match is not None\n",
    "\n",
    "# Test the function\n",
    "text=\"DivyaSolanki01\"\n",
    "if valid_items(text):\n",
    "    print(\"String contains only characters given in the pattern.\")\n",
    "else:\n",
    "    print(\"String contains donot contains characters given in the string.\")\n",
    "\n"
   ]
  },
  {
   "cell_type": "markdown",
   "id": "a95e68ac",
   "metadata": {},
   "source": [
    "# Question 2\n",
    "Write a RegEx pattern that matches a string that has an a followed by zero or more b's"
   ]
  },
  {
   "cell_type": "code",
   "execution_count": 11,
   "id": "bb28f580",
   "metadata": {},
   "outputs": [
    {
     "name": "stdout",
     "output_type": "stream",
     "text": [
      "\"ab\" matches the pattern.\n",
      "\"anbb\" matches the pattern.\n",
      "\"an\" matches the pattern.\n",
      "\"abbbbb\" matches the pattern.\n",
      "\"annbbb\" matches the pattern.\n",
      "\"nab\" does not match the pattern.\n",
      "\"bbaan\" does not match the pattern.\n"
     ]
    }
   ],
   "source": [
    "import re\n",
    "pattern = r'a|an*b'\n",
    "test_strings = [\"ab\", \"anbb\", \"an\", \"abbbbb\",\"annbbb\",\"nab\",\"bbaan\"]\n",
    "for test_string in test_strings:\n",
    "    if re.match(pattern, test_string):\n",
    "        print(f'\"{test_string}\" matches the pattern.')\n",
    "    else:\n",
    "        print(f'\"{test_string}\" does not match the pattern.')\n"
   ]
  },
  {
   "cell_type": "markdown",
   "id": "248d5842",
   "metadata": {},
   "source": [
    "# Question 3\n",
    "Write a RegEx pattern that matches a string that has an a followed by one or more b's"
   ]
  },
  {
   "cell_type": "code",
   "execution_count": 85,
   "id": "9ea30d1f",
   "metadata": {},
   "outputs": [
    {
     "name": "stdout",
     "output_type": "stream",
     "text": [
      "\"ab\" matches the pattern.\n",
      "\"anbb\" matches the pattern.\n",
      "\"an\" does not match the pattern.\n",
      "\"abbbbb\" matches the pattern.\n",
      "\"annbbb\" does not match the pattern.\n",
      "\"nab\" does not match the pattern.\n",
      "\"bbaan\" does not match the pattern.\n"
     ]
    }
   ],
   "source": [
    "import re\n",
    "pattern = r'(a|an)b+'\n",
    "test = [\"ab\", \"anbb\", \"an\", \"abbbbb\",\"annbbb\",\"nab\",\"bbaan\"]\n",
    "for i in test:\n",
    "    if re.match(pattern,i):\n",
    "        print(f'\"{i}\" matches the pattern.')\n",
    "    else:\n",
    "        print(f'\"{i}\" does not match the pattern.')\n"
   ]
  },
  {
   "cell_type": "markdown",
   "id": "99adb0c9",
   "metadata": {},
   "source": [
    "# Question 4\n",
    "Write a RegEx pattern that matches a string that has an a followed by zero or one 'b'"
   ]
  },
  {
   "cell_type": "code",
   "execution_count": 86,
   "id": "103a4a51",
   "metadata": {},
   "outputs": [
    {
     "name": "stdout",
     "output_type": "stream",
     "text": [
      "\"ab\" matches the pattern.\n",
      "\"anbb\" does not match the pattern.\n",
      "\"an\" matches the pattern.\n",
      "\"abbbbb\" does not match the pattern.\n",
      "\"annbbb\" does not match the pattern.\n",
      "\"nab\" does not match the pattern.\n",
      "\"bbaan\" does not match the pattern.\n"
     ]
    }
   ],
   "source": [
    "import re\n",
    "pattern = r\"(a|an)+b?$\"\n",
    "test = [\"ab\", \"anbb\", \"an\", \"abbbbb\",\"annbbb\",\"nab\",\"bbaan\"]\n",
    "for i in test:\n",
    "    if re.match(pattern, i):\n",
    "        print(f'\"{i}\" matches the pattern.')\n",
    "    else:\n",
    "        print(f'\"{i}\" does not match the pattern.')\n"
   ]
  },
  {
   "cell_type": "markdown",
   "id": "bfe7bd2a",
   "metadata": {},
   "source": [
    "# Question 5\n",
    "- Write a RegEx pattern in python program that matches a string that has an a followed by three 'b'."
   ]
  },
  {
   "cell_type": "code",
   "execution_count": 89,
   "id": "ad0a547b",
   "metadata": {},
   "outputs": [
    {
     "name": "stdout",
     "output_type": "stream",
     "text": [
      "\"ab\" does not match the pattern.\n",
      "\"anbbb\" matches the pattern.\n",
      "\"an\" does not match the pattern.\n",
      "\"abbbbb\" matches the pattern.\n",
      "\"annbbb\" does not match the pattern.\n",
      "\"nab\" does not match the pattern.\n",
      "\"bbaan\" does not match the pattern.\n"
     ]
    }
   ],
   "source": [
    "import re\n",
    "pattern = r\"(a|an)b{3}\"\n",
    "test = [\"ab\", \"anbbb\", \"an\", \"abbbbb\",\"annbbb\",\"nab\",\"bbaan\"]\n",
    "for i in test:\n",
    "    if re.match(pattern,i):\n",
    "        print(f'\"{i}\" matches the pattern.')\n",
    "    else:\n",
    "        print(f'\"{i}\" does not match the pattern.')"
   ]
  },
  {
   "cell_type": "markdown",
   "id": "3b173a35",
   "metadata": {},
   "source": [
    "# Question 6\n",
    "Write a RegEx pattern in python program that matches a string that has an a followed by two to three 'b'."
   ]
  },
  {
   "cell_type": "code",
   "execution_count": 88,
   "id": "88817b68",
   "metadata": {},
   "outputs": [
    {
     "name": "stdout",
     "output_type": "stream",
     "text": [
      "\"ab\" does not match the pattern.\n",
      "\"anbbb\" matches the pattern.\n",
      "\"an\" does not match the pattern.\n",
      "\"abbb\" matches the pattern.\n",
      "\"annbbb\" does not match the pattern.\n",
      "\"nab\" does not match the pattern.\n",
      "\"bbaan\" does not match the pattern.\n"
     ]
    }
   ],
   "source": [
    "import re\n",
    "pattern = r\"(a|an)b{2,3}\"\n",
    "test = [\"ab\", \"anbbb\", \"an\", \"abbb\",\"annbbb\",\"nab\",\"bbaan\"]\n",
    "for i in test:\n",
    "    if re.match(pattern,i):\n",
    "        print(f'\"{i}\" matches the pattern.')\n",
    "    else:\n",
    "        print(f'\"{i}\" does not match the pattern.')"
   ]
  },
  {
   "cell_type": "markdown",
   "id": "fdb21068",
   "metadata": {},
   "source": [
    "# Question 7\n",
    "Write a Python program that matches a string that has an 'a' followed by anything, ending in 'b'."
   ]
  },
  {
   "cell_type": "code",
   "execution_count": 40,
   "id": "b1ae5363",
   "metadata": {},
   "outputs": [
    {
     "name": "stdout",
     "output_type": "stream",
     "text": [
      "\"ab\" matches the pattern.\n",
      "\"anbbb\" does not match the pattern.\n",
      "\"an\" does not match the pattern.\n",
      "\"abbb\" does not match the pattern.\n",
      "\"annbbb\" does not match the pattern.\n",
      "\"nab\" does not match the pattern.\n",
      "\"bbaan\" does not match the pattern.\n"
     ]
    }
   ],
   "source": [
    "import re\n",
    "pattern = r\"a+b\\b\"\n",
    "test = [\"ab\", \"anbbb\", \"an\", \"abbb\",\"annbbb\",\"nab\",\"bbaan\"]\n",
    "for i in test:\n",
    "    if re.match(pattern, test_string):\n",
    "        print(f'\"{i}\" matches the pattern.')\n",
    "    else:\n",
    "        print(f'\"{i}\" does not match the pattern.')"
   ]
  },
  {
   "cell_type": "markdown",
   "id": "8c8cae9b",
   "metadata": {},
   "source": [
    "# Question 8\n",
    "Write a RegEx pattern in python program that matches a word at the beginning of a string."
   ]
  },
  {
   "cell_type": "code",
   "execution_count": 75,
   "id": "9b07bd22",
   "metadata": {},
   "outputs": [
    {
     "name": "stdout",
     "output_type": "stream",
     "text": [
      "<regex.Match object; span=(0, 2), match='My'>\n",
      "None\n",
      "<regex.Match object; span=(0, 2), match='My'>\n"
     ]
    }
   ],
   "source": [
    "import regex as re\n",
    "pattern=r\"My\"\n",
    "test=[\"My name is Divya Solanki\",\"I did my masters in 2014\",\"My hobbies are painting\"]\n",
    "for i in test:\n",
    "    result=re.match(pattern,i)\n",
    "    print(result)"
   ]
  },
  {
   "cell_type": "markdown",
   "id": "ca27b858",
   "metadata": {},
   "source": [
    "# Question 9\n",
    "Write a RegEx pattern in python program that matches a word at the end of a string"
   ]
  },
  {
   "cell_type": "code",
   "execution_count": 59,
   "id": "eb7698cc",
   "metadata": {},
   "outputs": [
    {
     "name": "stdout",
     "output_type": "stream",
     "text": [
      "all\n",
      "Divya\n",
      "drives\n"
     ]
    }
   ],
   "source": [
    "import regex as re\n",
    "pattern=r\"\\b\\w+\\b$\"\n",
    "test=[\"Hello all\",\"My name is Divya\",\"I did my masters in Power system and drives\"]\n",
    "for i in test:\n",
    "    result=re.search(pattern,i)\n",
    "    print(result.group())"
   ]
  },
  {
   "cell_type": "markdown",
   "id": "4d5fb878",
   "metadata": {},
   "source": [
    "# Question 10\n",
    "Write a RegEx pattern in python program to find all words that are 4 digits long in a string.\n",
    "Sample text- '01 0132 231875 1458 301 2725.'\n",
    "Expected output- ['0132', '1458', '2725']"
   ]
  },
  {
   "cell_type": "code",
   "execution_count": 84,
   "id": "a66bbef8",
   "metadata": {},
   "outputs": [
    {
     "name": "stdout",
     "output_type": "stream",
     "text": [
      "['0132', '1458', '2725']\n"
     ]
    }
   ],
   "source": [
    "test=\"01 0132 231875 1458 301 2725\"\n",
    "pattern=r\"\\b\\d{4}\\b\"\n",
    "result=re.findall(pattern,test)\n",
    "print(result)"
   ]
  },
  {
   "cell_type": "code",
   "execution_count": null,
   "id": "02bc4b66",
   "metadata": {},
   "outputs": [],
   "source": []
  }
 ],
 "metadata": {
  "kernelspec": {
   "display_name": "Python 3 (ipykernel)",
   "language": "python",
   "name": "python3"
  },
  "language_info": {
   "codemirror_mode": {
    "name": "ipython",
    "version": 3
   },
   "file_extension": ".py",
   "mimetype": "text/x-python",
   "name": "python",
   "nbconvert_exporter": "python",
   "pygments_lexer": "ipython3",
   "version": "3.10.9"
  }
 },
 "nbformat": 4,
 "nbformat_minor": 5
}
